{
 "cells": [
  {
   "cell_type": "code",
   "execution_count": 14,
   "id": "005977a7-096c-4fb0-afa9-29e8fb024904",
   "metadata": {
    "tags": []
   },
   "outputs": [
    {
     "name": "stdout",
     "output_type": "stream",
     "text": [
      "  First Name Last Name              Email Postal Code   Net Worth\n",
      "0     Joseph    Patton     daafeja@boh.jm     M6U 5U7  $2,629.13 \n",
      "1       Noah     Moran  guutodi@bigwoc.kw     K2D 4M9  $8,626.96 \n",
      "2       Nina    Keller    azikez@gahew.mr     S1T 4E6  $9,072.02 \n",
      "[                                        Year of birth  \\\n",
      "0                                      1937 and prior   \n",
      "1                                                1938   \n",
      "2                                                1939   \n",
      "3                                                1940   \n",
      "4                                                1941   \n",
      "5                                                1942   \n",
      "6                                             1943-54   \n",
      "7                                                1955   \n",
      "8                                                1956   \n",
      "9                                                1957   \n",
      "10                                               1958   \n",
      "11                                               1959   \n",
      "12                                     1960 and later   \n",
      "13  Notes: 1. Persons born on January 1 of any yea...   \n",
      "\n",
      "                                                  Age  \n",
      "0                                                  65  \n",
      "1                                     65 and 2 months  \n",
      "2                                     65 and 4 months  \n",
      "3                                     65 and 6 months  \n",
      "4                                     65 and 8 months  \n",
      "5                                    65 and 10 months  \n",
      "6                                                  66  \n",
      "7                                     66 and 2 months  \n",
      "8                                     66 and 4 months  \n",
      "9                                     66 and 6 months  \n",
      "10                                    66 and 8 months  \n",
      "11                                   66 and 10 months  \n",
      "12                                                 67  \n",
      "13  Notes: 1. Persons born on January 1 of any yea...  ]\n"
     ]
    }
   ],
   "source": [
    "import pandas as pd\n",
    "\n",
    "bank_Data = pd.read_csv('bank_client_information.csv')  #Panda CSV reader\n",
    "print(bank_Data)\n",
    "bank_Data.to_csv('Pandas CSV File.csv', index=False)\n",
    "\"\"\" The above statement creates a CSV file with the given data, Index false means that we don't want to include 0,1,\n",
    "2 etc. index in the file.\"\"\"\n",
    "\n",
    "\n",
    "bank_Data.to_csv('Pandas CSV File True.csv', index=True)\n",
    "\n",
    "housePrices_data = pd.read_html('https://www.ssa.gov/oact/progdata/nra.html')       # Reads the data from the html\n",
    "# website and stores in the table\n",
    "print(housePrices_data)\n"
   ]
  },
  {
   "cell_type": "code",
   "execution_count": null,
   "id": "d39bd85f-0fe4-467c-b11f-c2a7f871ebfe",
   "metadata": {},
   "outputs": [],
   "source": []
  }
 ],
 "metadata": {
  "kernelspec": {
   "display_name": "Python 3 (ipykernel)",
   "language": "python",
   "name": "python3"
  },
  "language_info": {
   "codemirror_mode": {
    "name": "ipython",
    "version": 3
   },
   "file_extension": ".py",
   "mimetype": "text/x-python",
   "name": "python",
   "nbconvert_exporter": "python",
   "pygments_lexer": "ipython3",
   "version": "3.11.5"
  }
 },
 "nbformat": 4,
 "nbformat_minor": 5
}
