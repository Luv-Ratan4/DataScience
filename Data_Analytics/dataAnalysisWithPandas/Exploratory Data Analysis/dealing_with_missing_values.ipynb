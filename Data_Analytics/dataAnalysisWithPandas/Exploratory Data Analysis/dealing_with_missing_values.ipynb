{
 "cells": [
  {
   "cell_type": "markdown",
   "metadata": {},
   "source": [
    "Different Methods of Dealing with Missing Values -\n",
    "\n",
    "- Deleting the column with missing data\n",
    "- Deleting the row with missing data\n",
    "- Fill the Missing Values - IMPUTATION\n",
    "    - Numerical data - use mean/median etc.\n",
    "    - Categorical data - use most_frequent etc. \n",
    "                    - We can introduce new category for the NULL values"
   ]
  },
  {
   "cell_type": "markdown",
   "metadata": {},
   "source": [
    "#### Removing the Column which has the missing data\n"
   ]
  },
  {
   "cell_type": "code",
   "execution_count": 2,
   "metadata": {},
   "outputs": [
    {
     "data": {
      "text/plain": [
       "id                                    0\n",
       "name                                 16\n",
       "host_id                               0\n",
       "host_name                            21\n",
       "neighbourhood_group                   0\n",
       "neighbourhood                         0\n",
       "latitude                              0\n",
       "longitude                             0\n",
       "room_type                             0\n",
       "price                                 0\n",
       "minimum_nights                        0\n",
       "number_of_reviews                     0\n",
       "reviews_per_month                 10052\n",
       "calculated_host_listings_count        0\n",
       "availability_365                      0\n",
       "dtype: int64"
      ]
     },
     "execution_count": 2,
     "metadata": {},
     "output_type": "execute_result"
    }
   ],
   "source": [
    "\n",
    "import pandas as pd\n",
    "df = pd.read_csv('./AB_NYC_2019.csv')\n",
    "df1 = df.copy() #Copies the complete data from one dataset to another\n",
    "df1.drop(\"last_review\", axis=1, inplace= True)   #Helps in removing the data from the dataset. axis = 1 means remove column. inplace = True means it is a permanent change.\n",
    "df1.isna().sum()\n"
   ]
  },
  {
   "cell_type": "markdown",
   "metadata": {},
   "source": [
    "#### Removing the Rows which has the missing data\n"
   ]
  },
  {
   "cell_type": "code",
   "execution_count": 3,
   "metadata": {},
   "outputs": [
    {
     "data": {
      "text/plain": [
       "id                                0\n",
       "name                              0\n",
       "host_id                           0\n",
       "host_name                         0\n",
       "neighbourhood_group               0\n",
       "neighbourhood                     0\n",
       "latitude                          0\n",
       "longitude                         0\n",
       "room_type                         0\n",
       "price                             0\n",
       "minimum_nights                    0\n",
       "number_of_reviews                 0\n",
       "last_review                       0\n",
       "reviews_per_month                 0\n",
       "calculated_host_listings_count    0\n",
       "availability_365                  0\n",
       "dtype: int64"
      ]
     },
     "execution_count": 3,
     "metadata": {},
     "output_type": "execute_result"
    }
   ],
   "source": [
    "\n",
    "df2 = df.copy()\n",
    "df2.isna().sum()\n",
    "df2.dropna(inplace=True)\n",
    "df2.isna().sum()\n"
   ]
  },
  {
   "cell_type": "markdown",
   "metadata": {},
   "source": [
    "#### Fill the missing values using IMPUTATION"
   ]
  },
  {
   "cell_type": "code",
   "execution_count": 5,
   "metadata": {},
   "outputs": [
    {
     "data": {
      "text/plain": [
       "id                                    0\n",
       "name                                 16\n",
       "host_id                               0\n",
       "host_name                            21\n",
       "neighbourhood_group                   0\n",
       "neighbourhood                         0\n",
       "latitude                              0\n",
       "longitude                             0\n",
       "room_type                             0\n",
       "price                                 0\n",
       "minimum_nights                        0\n",
       "number_of_reviews                     0\n",
       "last_review                       10052\n",
       "reviews_per_month                     0\n",
       "calculated_host_listings_count        0\n",
       "availability_365                      0\n",
       "dtype: int64"
      ]
     },
     "execution_count": 5,
     "metadata": {},
     "output_type": "execute_result"
    }
   ],
   "source": [
    "df3 = df.copy()\n",
    "df3.head()\n",
    "mean_value = df3[\"reviews_per_month\"].mean() #Helps in finding the mean from the column\n",
    "df3[\"reviews_per_month\"].fillna(mean_value, inplace= True)  #Helps in filling the data with the mean\n",
    "df3.isna().sum()\n"
   ]
  },
  {
   "cell_type": "markdown",
   "metadata": {},
   "source": [
    "#### Handling the Categorical Data\n",
    "\n",
    "- Method 1 - Using Most_frequent"
   ]
  },
  {
   "cell_type": "code",
   "execution_count": 7,
   "metadata": {},
   "outputs": [
    {
     "data": {
      "text/plain": [
       "id                                48895\n",
       "name                              47905\n",
       "host_id                           37457\n",
       "host_name                         11452\n",
       "neighbourhood_group                   5\n",
       "neighbourhood                       221\n",
       "latitude                          19048\n",
       "longitude                         14718\n",
       "room_type                             3\n",
       "price                               674\n",
       "minimum_nights                      109\n",
       "number_of_reviews                   394\n",
       "last_review                        1764\n",
       "reviews_per_month                   938\n",
       "calculated_host_listings_count       47\n",
       "availability_365                    366\n",
       "dtype: int64"
      ]
     },
     "execution_count": 7,
     "metadata": {},
     "output_type": "execute_result"
    }
   ],
   "source": [
    "df3.nunique()"
   ]
  },
  {
   "cell_type": "code",
   "execution_count": 17,
   "metadata": {},
   "outputs": [
    {
     "name": "stdout",
     "output_type": "stream",
     "text": [
      "<class 'pandas.core.series.Series'>\n",
      "2019-06-23\n"
     ]
    },
    {
     "data": {
      "text/plain": [
       "id                                 0\n",
       "name                              16\n",
       "host_id                            0\n",
       "host_name                         21\n",
       "neighbourhood_group                0\n",
       "neighbourhood                      0\n",
       "latitude                           0\n",
       "longitude                          0\n",
       "room_type                          0\n",
       "price                              0\n",
       "minimum_nights                     0\n",
       "number_of_reviews                  0\n",
       "last_review                        0\n",
       "reviews_per_month                  0\n",
       "calculated_host_listings_count     0\n",
       "availability_365                   0\n",
       "dtype: int64"
      ]
     },
     "execution_count": 17,
     "metadata": {},
     "output_type": "execute_result"
    }
   ],
   "source": [
    "modValue = df3['last_review'].value_counts()        #This will give us the count of how many times each value has occured in the df3 in the sorted Pandas Series \n",
    "print(type(modValue))\n",
    "modValueMostOccured = modValue.index[0]     #This will give the first item from the Pandas series\n",
    "print(modValueMostOccured)\n",
    "df3['last_review'].fillna(modValue, inplace= True) #Fill the NULL values  of 'last_review' with most occured number\n",
    "#df3['last_review'].fillna(df3['last_review'].value_counts().index[0] ,inplace= True) We can combine the above steps like this.\n",
    "df3.isna().sum() \n"
   ]
  },
  {
   "cell_type": "markdown",
   "metadata": {},
   "source": [
    "#### - Method 2 - By making a new category"
   ]
  },
  {
   "cell_type": "code",
   "execution_count": 19,
   "metadata": {},
   "outputs": [
    {
     "data": {
      "text/plain": [
       "id                                    0\n",
       "name                                 16\n",
       "host_id                               0\n",
       "host_name                            21\n",
       "neighbourhood_group                   0\n",
       "neighbourhood                         0\n",
       "latitude                              0\n",
       "longitude                             0\n",
       "room_type                             0\n",
       "price                                 0\n",
       "minimum_nights                        0\n",
       "number_of_reviews                     0\n",
       "last_review                       10052\n",
       "reviews_per_month                 10052\n",
       "calculated_host_listings_count        0\n",
       "availability_365                      0\n",
       "dtype: int64"
      ]
     },
     "execution_count": 19,
     "metadata": {},
     "output_type": "execute_result"
    }
   ],
   "source": [
    "df4 = df.copy()\n",
    "df4.isna().sum()"
   ]
  },
  {
   "cell_type": "code",
   "execution_count": 29,
   "metadata": {},
   "outputs": [
    {
     "name": "stdout",
     "output_type": "stream",
     "text": [
      "10052\n"
     ]
    },
    {
     "data": {
      "text/html": [
       "<div>\n",
       "<style scoped>\n",
       "    .dataframe tbody tr th:only-of-type {\n",
       "        vertical-align: middle;\n",
       "    }\n",
       "\n",
       "    .dataframe tbody tr th {\n",
       "        vertical-align: top;\n",
       "    }\n",
       "\n",
       "    .dataframe thead th {\n",
       "        text-align: right;\n",
       "    }\n",
       "</style>\n",
       "<table border=\"1\" class=\"dataframe\">\n",
       "  <thead>\n",
       "    <tr style=\"text-align: right;\">\n",
       "      <th></th>\n",
       "      <th>id</th>\n",
       "      <th>name</th>\n",
       "      <th>host_id</th>\n",
       "      <th>host_name</th>\n",
       "      <th>neighbourhood_group</th>\n",
       "      <th>neighbourhood</th>\n",
       "      <th>latitude</th>\n",
       "      <th>longitude</th>\n",
       "      <th>room_type</th>\n",
       "      <th>price</th>\n",
       "      <th>minimum_nights</th>\n",
       "      <th>number_of_reviews</th>\n",
       "      <th>last_review</th>\n",
       "      <th>reviews_per_month</th>\n",
       "      <th>calculated_host_listings_count</th>\n",
       "      <th>availability_365</th>\n",
       "    </tr>\n",
       "  </thead>\n",
       "  <tbody>\n",
       "    <tr>\n",
       "      <th>12499</th>\n",
       "      <td>9612938</td>\n",
       "      <td>Studio apt in Historic House Museum</td>\n",
       "      <td>49736436</td>\n",
       "      <td>George</td>\n",
       "      <td>Manhattan</td>\n",
       "      <td>Washington Heights</td>\n",
       "      <td>40.83549</td>\n",
       "      <td>-73.93968</td>\n",
       "      <td>Entire home/apt</td>\n",
       "      <td>120</td>\n",
       "      <td>3</td>\n",
       "      <td>10</td>\n",
       "      <td>2019-07-01</td>\n",
       "      <td>0.70</td>\n",
       "      <td>2</td>\n",
       "      <td>244</td>\n",
       "    </tr>\n",
       "    <tr>\n",
       "      <th>27395</th>\n",
       "      <td>21608855</td>\n",
       "      <td>The Cozy Bushwick Modern (Room B)</td>\n",
       "      <td>142625186</td>\n",
       "      <td>J.R.</td>\n",
       "      <td>Brooklyn</td>\n",
       "      <td>Bushwick</td>\n",
       "      <td>40.69104</td>\n",
       "      <td>-73.91685</td>\n",
       "      <td>Private room</td>\n",
       "      <td>75</td>\n",
       "      <td>1</td>\n",
       "      <td>44</td>\n",
       "      <td>2019-06-19</td>\n",
       "      <td>2.16</td>\n",
       "      <td>2</td>\n",
       "      <td>0</td>\n",
       "    </tr>\n",
       "    <tr>\n",
       "      <th>20981</th>\n",
       "      <td>16617217</td>\n",
       "      <td>LUXURY Flatiron Highrise 1 BR/1 BA</td>\n",
       "      <td>107883536</td>\n",
       "      <td>Tommy</td>\n",
       "      <td>Manhattan</td>\n",
       "      <td>Midtown</td>\n",
       "      <td>40.74473</td>\n",
       "      <td>-73.99005</td>\n",
       "      <td>Entire home/apt</td>\n",
       "      <td>159</td>\n",
       "      <td>2</td>\n",
       "      <td>0</td>\n",
       "      <td>Not_Reviewed</td>\n",
       "      <td>2.09</td>\n",
       "      <td>1</td>\n",
       "      <td>0</td>\n",
       "    </tr>\n",
       "    <tr>\n",
       "      <th>21920</th>\n",
       "      <td>17625824</td>\n",
       "      <td>Private Room in Brooklyn Brownstone</td>\n",
       "      <td>79882333</td>\n",
       "      <td>Hallie</td>\n",
       "      <td>Brooklyn</td>\n",
       "      <td>Bedford-Stuyvesant</td>\n",
       "      <td>40.68119</td>\n",
       "      <td>-73.93722</td>\n",
       "      <td>Private room</td>\n",
       "      <td>39</td>\n",
       "      <td>2</td>\n",
       "      <td>2</td>\n",
       "      <td>2017-03-29</td>\n",
       "      <td>0.07</td>\n",
       "      <td>1</td>\n",
       "      <td>0</td>\n",
       "    </tr>\n",
       "    <tr>\n",
       "      <th>42316</th>\n",
       "      <td>32841707</td>\n",
       "      <td>Fresh, Spacious 2-Bed with Garage Parking</td>\n",
       "      <td>247064022</td>\n",
       "      <td>Sunny</td>\n",
       "      <td>Queens</td>\n",
       "      <td>Flushing</td>\n",
       "      <td>40.74551</td>\n",
       "      <td>-73.82662</td>\n",
       "      <td>Entire home/apt</td>\n",
       "      <td>189</td>\n",
       "      <td>3</td>\n",
       "      <td>10</td>\n",
       "      <td>2019-07-01</td>\n",
       "      <td>2.68</td>\n",
       "      <td>1</td>\n",
       "      <td>51</td>\n",
       "    </tr>\n",
       "    <tr>\n",
       "      <th>18524</th>\n",
       "      <td>14594441</td>\n",
       "      <td>Excellent Studio Space</td>\n",
       "      <td>49562545</td>\n",
       "      <td>Ella</td>\n",
       "      <td>Brooklyn</td>\n",
       "      <td>Williamsburg</td>\n",
       "      <td>40.70623</td>\n",
       "      <td>-73.94951</td>\n",
       "      <td>Entire home/apt</td>\n",
       "      <td>99</td>\n",
       "      <td>1</td>\n",
       "      <td>187</td>\n",
       "      <td>2019-06-23</td>\n",
       "      <td>5.43</td>\n",
       "      <td>2</td>\n",
       "      <td>39</td>\n",
       "    </tr>\n",
       "    <tr>\n",
       "      <th>8998</th>\n",
       "      <td>6910072</td>\n",
       "      <td>Sunny Room in Bushwick &amp; central AC</td>\n",
       "      <td>36211685</td>\n",
       "      <td>Vienna</td>\n",
       "      <td>Queens</td>\n",
       "      <td>Ridgewood</td>\n",
       "      <td>40.70588</td>\n",
       "      <td>-73.91464</td>\n",
       "      <td>Private room</td>\n",
       "      <td>85</td>\n",
       "      <td>1</td>\n",
       "      <td>1</td>\n",
       "      <td>2015-08-17</td>\n",
       "      <td>0.02</td>\n",
       "      <td>1</td>\n",
       "      <td>0</td>\n",
       "    </tr>\n",
       "    <tr>\n",
       "      <th>47282</th>\n",
       "      <td>35673061</td>\n",
       "      <td>Luxury Central Park Apartment</td>\n",
       "      <td>268352337</td>\n",
       "      <td>Logan</td>\n",
       "      <td>Manhattan</td>\n",
       "      <td>Hell's Kitchen</td>\n",
       "      <td>40.76374</td>\n",
       "      <td>-73.98844</td>\n",
       "      <td>Entire home/apt</td>\n",
       "      <td>450</td>\n",
       "      <td>1</td>\n",
       "      <td>1</td>\n",
       "      <td>2019-06-27</td>\n",
       "      <td>1.00</td>\n",
       "      <td>2</td>\n",
       "      <td>360</td>\n",
       "    </tr>\n",
       "    <tr>\n",
       "      <th>35085</th>\n",
       "      <td>27817851</td>\n",
       "      <td>A Nice Room For Unique people</td>\n",
       "      <td>152246149</td>\n",
       "      <td>Catherine</td>\n",
       "      <td>Bronx</td>\n",
       "      <td>Throgs Neck</td>\n",
       "      <td>40.82952</td>\n",
       "      <td>-73.82818</td>\n",
       "      <td>Private room</td>\n",
       "      <td>140</td>\n",
       "      <td>1</td>\n",
       "      <td>31</td>\n",
       "      <td>2019-06-09</td>\n",
       "      <td>3.01</td>\n",
       "      <td>5</td>\n",
       "      <td>365</td>\n",
       "    </tr>\n",
       "    <tr>\n",
       "      <th>34937</th>\n",
       "      <td>27700366</td>\n",
       "      <td>Huge Apartment Midtown Manhattan Empire State ...</td>\n",
       "      <td>89332421</td>\n",
       "      <td>Mohit</td>\n",
       "      <td>Manhattan</td>\n",
       "      <td>Kips Bay</td>\n",
       "      <td>40.74462</td>\n",
       "      <td>-73.97838</td>\n",
       "      <td>Entire home/apt</td>\n",
       "      <td>187</td>\n",
       "      <td>3</td>\n",
       "      <td>4</td>\n",
       "      <td>2019-03-25</td>\n",
       "      <td>0.53</td>\n",
       "      <td>1</td>\n",
       "      <td>0</td>\n",
       "    </tr>\n",
       "  </tbody>\n",
       "</table>\n",
       "</div>"
      ],
      "text/plain": [
       "             id                                               name    host_id  \\\n",
       "12499   9612938                Studio apt in Historic House Museum   49736436   \n",
       "27395  21608855                  The Cozy Bushwick Modern (Room B)  142625186   \n",
       "20981  16617217                 LUXURY Flatiron Highrise 1 BR/1 BA  107883536   \n",
       "21920  17625824                Private Room in Brooklyn Brownstone   79882333   \n",
       "42316  32841707          Fresh, Spacious 2-Bed with Garage Parking  247064022   \n",
       "18524  14594441                             Excellent Studio Space   49562545   \n",
       "8998    6910072                Sunny Room in Bushwick & central AC   36211685   \n",
       "47282  35673061                      Luxury Central Park Apartment  268352337   \n",
       "35085  27817851                      A Nice Room For Unique people  152246149   \n",
       "34937  27700366  Huge Apartment Midtown Manhattan Empire State ...   89332421   \n",
       "\n",
       "       host_name neighbourhood_group       neighbourhood  latitude  longitude  \\\n",
       "12499     George           Manhattan  Washington Heights  40.83549  -73.93968   \n",
       "27395       J.R.            Brooklyn            Bushwick  40.69104  -73.91685   \n",
       "20981      Tommy           Manhattan             Midtown  40.74473  -73.99005   \n",
       "21920     Hallie            Brooklyn  Bedford-Stuyvesant  40.68119  -73.93722   \n",
       "42316      Sunny              Queens            Flushing  40.74551  -73.82662   \n",
       "18524       Ella            Brooklyn        Williamsburg  40.70623  -73.94951   \n",
       "8998      Vienna              Queens           Ridgewood  40.70588  -73.91464   \n",
       "47282      Logan           Manhattan      Hell's Kitchen  40.76374  -73.98844   \n",
       "35085  Catherine               Bronx         Throgs Neck  40.82952  -73.82818   \n",
       "34937      Mohit           Manhattan            Kips Bay  40.74462  -73.97838   \n",
       "\n",
       "             room_type  price  minimum_nights  number_of_reviews  \\\n",
       "12499  Entire home/apt    120               3                 10   \n",
       "27395     Private room     75               1                 44   \n",
       "20981  Entire home/apt    159               2                  0   \n",
       "21920     Private room     39               2                  2   \n",
       "42316  Entire home/apt    189               3                 10   \n",
       "18524  Entire home/apt     99               1                187   \n",
       "8998      Private room     85               1                  1   \n",
       "47282  Entire home/apt    450               1                  1   \n",
       "35085     Private room    140               1                 31   \n",
       "34937  Entire home/apt    187               3                  4   \n",
       "\n",
       "        last_review  reviews_per_month  calculated_host_listings_count  \\\n",
       "12499    2019-07-01               0.70                               2   \n",
       "27395    2019-06-19               2.16                               2   \n",
       "20981  Not_Reviewed               2.09                               1   \n",
       "21920    2017-03-29               0.07                               1   \n",
       "42316    2019-07-01               2.68                               1   \n",
       "18524    2019-06-23               5.43                               2   \n",
       "8998     2015-08-17               0.02                               1   \n",
       "47282    2019-06-27               1.00                               2   \n",
       "35085    2019-06-09               3.01                               5   \n",
       "34937    2019-03-25               0.53                               1   \n",
       "\n",
       "       availability_365  \n",
       "12499               244  \n",
       "27395                 0  \n",
       "20981                 0  \n",
       "21920                 0  \n",
       "42316                51  \n",
       "18524                39  \n",
       "8998                  0  \n",
       "47282               360  \n",
       "35085               365  \n",
       "34937                 0  "
      ]
     },
     "execution_count": 29,
     "metadata": {},
     "output_type": "execute_result"
    }
   ],
   "source": [
    "df4[\"last_review\"].fillna(\"Not_Reviewed\", inplace= True)\n",
    "df4[\"last_review\"]\n",
    "count = 0\n",
    "for i in df4[\"last_review\"] :\n",
    "    if i == 'Not_Reviewed' :\n",
    "        count += 1\n",
    "print(count) \n",
    "df4.sample(10)"
   ]
  },
  {
   "cell_type": "markdown",
   "metadata": {},
   "source": [
    "#### Method 3 - Advanced Imputation"
   ]
  },
  {
   "cell_type": "code",
   "execution_count": 31,
   "metadata": {},
   "outputs": [
    {
     "data": {
      "text/plain": [
       "id                                    0\n",
       "name                                 16\n",
       "host_id                               0\n",
       "host_name                            21\n",
       "neighbourhood_group                   0\n",
       "neighbourhood                         0\n",
       "latitude                              0\n",
       "longitude                             0\n",
       "room_type                             0\n",
       "price                                 0\n",
       "minimum_nights                        0\n",
       "number_of_reviews                     0\n",
       "last_review                       10052\n",
       "reviews_per_month                     0\n",
       "calculated_host_listings_count        0\n",
       "availability_365                      0\n",
       "dtype: int64"
      ]
     },
     "execution_count": 31,
     "metadata": {},
     "output_type": "execute_result"
    }
   ],
   "source": [
    "df5 = df.copy()\n",
    "\n",
    "#Using interpolate\n",
    "\n",
    "df5['reviews_per_month'].interpolate(inplace=True)\n",
    "df5.isna().sum()"
   ]
  }
 ],
 "metadata": {
  "kernelspec": {
   "display_name": "Python 3",
   "language": "python",
   "name": "python3"
  },
  "language_info": {
   "codemirror_mode": {
    "name": "ipython",
    "version": 3
   },
   "file_extension": ".py",
   "mimetype": "text/x-python",
   "name": "python",
   "nbconvert_exporter": "python",
   "pygments_lexer": "ipython3",
   "version": "3.12.4"
  }
 },
 "nbformat": 4,
 "nbformat_minor": 2
}
