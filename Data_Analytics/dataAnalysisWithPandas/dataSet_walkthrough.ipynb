{
 "cells": [
  {
   "cell_type": "code",
   "execution_count": 2,
   "metadata": {},
   "outputs": [],
   "source": [
    "import pandas as pd"
   ]
  },
  {
   "cell_type": "code",
   "execution_count": null,
   "metadata": {},
   "outputs": [],
   "source": [
    "data = pd.read_csv('./googleplaystore.csv')\n",
    "data\n",
    "type(data)  #This will give us data type as data-frame since csv/excel files stores data in dataFrame format\n",
    "data.head() #This will give us the first 5 rows of the data\n",
    "data.head(10) #This will give us the first 10 rows of the data\n",
    "data['App'] #This will  give me all data from all the rows under the column -'App'\n",
    "data.columns #This will give me the names of all the columns that I am having in the list form\n",
    "print(type(data.columns)) #it is an object of the INDEX CLASS\n",
    "for i in data.columns:\n",
    "    print(data[i])          #this will gfive me the data for each column. data = data frame, i = column_name"
   ]
  }
 ],
 "metadata": {
  "kernelspec": {
   "display_name": "Python 3",
   "language": "python",
   "name": "python3"
  },
  "language_info": {
   "codemirror_mode": {
    "name": "ipython",
    "version": 3
   },
   "file_extension": ".py",
   "mimetype": "text/x-python",
   "name": "python",
   "nbconvert_exporter": "python",
   "pygments_lexer": "ipython3",
   "version": "3.12.4"
  }
 },
 "nbformat": 4,
 "nbformat_minor": 2
}
