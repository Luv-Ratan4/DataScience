{
 "cells": [
  {
   "cell_type": "code",
   "execution_count": 1,
   "metadata": {},
   "outputs": [],
   "source": [
    "import numpy as np\n"
   ]
  },
  {
   "cell_type": "code",
   "execution_count": 2,
   "metadata": {},
   "outputs": [
    {
     "name": "stdout",
     "output_type": "stream",
     "text": [
      "<class 'list'>\n",
      "[[1.  2.  3.4]]\n",
      "<class 'numpy.ndarray'>\n"
     ]
    }
   ],
   "source": [
    "lst = [1,2,3.4]\n",
    "print(type(lst))\n",
    "\n",
    "arr = np.array(lst, ndmin=2) #Converting a python list into an numpy array and giving it dimensions\n",
    "print(arr)\n",
    "print(type(arr))"
   ]
  },
  {
   "cell_type": "markdown",
   "metadata": {},
   "source": [
    "#### Arrange Function"
   ]
  },
  {
   "cell_type": "code",
   "execution_count": 3,
   "metadata": {},
   "outputs": [
    {
     "name": "stdout",
     "output_type": "stream",
     "text": [
      "1\n",
      "3\n",
      "5\n",
      "7\n",
      "9\n"
     ]
    }
   ],
   "source": [
    "np.arange(1,10,2) #creates an array of numbers from starting number to ending number with the number of steps after each number\n",
    "for i in np.arange(1,10,2) :\n",
    "    print(i)"
   ]
  },
  {
   "cell_type": "markdown",
   "metadata": {},
   "source": [
    "#### Multidimensional Array"
   ]
  },
  {
   "cell_type": "code",
   "execution_count": 4,
   "metadata": {},
   "outputs": [
    {
     "name": "stdout",
     "output_type": "stream",
     "text": [
      "[[1, 2, 3], [4, 5, 6], [7, 8, 9], [7, 8, 9]]\n",
      "[[1 2 3]\n",
      " [4 5 6]\n",
      " [7 8 9]\n",
      " [7 8 9]]\n"
     ]
    }
   ],
   "source": [
    "lst = [[1,2,3],[4,5,6],[7,8,9],[7,8,9]] #This is a two dimensional list\n",
    "print(lst)\n",
    "arr = np.array(lst) #Converting two dimensional list to an np array\n",
    "print(arr)"
   ]
  },
  {
   "cell_type": "markdown",
   "metadata": {},
   "source": [
    "#### Size function"
   ]
  },
  {
   "cell_type": "code",
   "execution_count": 5,
   "metadata": {},
   "outputs": [
    {
     "name": "stdout",
     "output_type": "stream",
     "text": [
      "Total :  12\n",
      "Rows :  4\n",
      "Columns :  3\n"
     ]
    }
   ],
   "source": [
    "arr.size #This gives us the number of elements in the array\n",
    "print('Total : ',arr.size)\n",
    "print('Rows : ',np.size(arr, 0))            #This gives the number of rows\n",
    "print('Columns : ',np.size(arr,1))          #This gives the number of columns\n",
    " \n"
   ]
  },
  {
   "cell_type": "markdown",
   "metadata": {},
   "source": [
    "#### Shape Function"
   ]
  },
  {
   "cell_type": "code",
   "execution_count": 6,
   "metadata": {},
   "outputs": [
    {
     "name": "stdout",
     "output_type": "stream",
     "text": [
      "(4, 3)\n"
     ]
    }
   ],
   "source": [
    "print(arr.shape) #This gives the order of the matrix"
   ]
  },
  {
   "cell_type": "markdown",
   "metadata": {},
   "source": [
    "#### Data Type"
   ]
  },
  {
   "cell_type": "code",
   "execution_count": 7,
   "metadata": {},
   "outputs": [
    {
     "name": "stdout",
     "output_type": "stream",
     "text": [
      "int32\n",
      "float64\n",
      "float64\n"
     ]
    }
   ],
   "source": [
    "arr1 = np.array([1,2,3,1,2,3]) #Gives the type of data in the array\n",
    "arr2 = np.array([1.2,3.1,2.3])\n",
    "arr3 = np.array([1.2,3.1,3])\n",
    "\n",
    "\n",
    "print(arr1.dtype)\n",
    "print(arr2.dtype)\n",
    "print(arr3.dtype)"
   ]
  },
  {
   "cell_type": "markdown",
   "metadata": {},
   "source": [
    "#### Ndim Function"
   ]
  },
  {
   "cell_type": "code",
   "execution_count": 8,
   "metadata": {},
   "outputs": [
    {
     "name": "stdout",
     "output_type": "stream",
     "text": [
      "2\n",
      "[[[[1 2 3]\n",
      "   [4 5 6]\n",
      "   [7 8 9]\n",
      "   [7 8 9]]]]\n",
      "4\n"
     ]
    }
   ],
   "source": [
    "print(arr.ndim) #How many dimensions the array is having\n",
    "\n",
    "#we can also convert the dimension of the array\n",
    "arr4 = np.array(arr, ndmin=4)\n",
    "print(arr4)\n",
    "print(arr4.ndim)\n"
   ]
  },
  {
   "cell_type": "markdown",
   "metadata": {},
   "source": [
    "#### Zeroes Function"
   ]
  },
  {
   "cell_type": "code",
   "execution_count": 9,
   "metadata": {},
   "outputs": [
    {
     "name": "stdout",
     "output_type": "stream",
     "text": [
      "float64\n",
      "[[0. 0. 0. 0. 0.]\n",
      " [0. 0. 0. 0. 0.]\n",
      " [0. 0. 0. 0. 0.]]\n"
     ]
    }
   ],
   "source": [
    "arr = np.zeros(shape=(3,5)) #Creates a numpy array/matrix with the given order=shape, filled with zeroes in the places by default\n",
    "print(arr.dtype)\n",
    "print(arr)"
   ]
  },
  {
   "cell_type": "markdown",
   "metadata": {},
   "source": [
    "#### Ones Function"
   ]
  },
  {
   "cell_type": "code",
   "execution_count": 10,
   "metadata": {},
   "outputs": [
    {
     "name": "stdout",
     "output_type": "stream",
     "text": [
      "float64\n",
      "[[1. 1. 1. 1. 1.]\n",
      " [1. 1. 1. 1. 1.]\n",
      " [1. 1. 1. 1. 1.]\n",
      " [1. 1. 1. 1. 1.]\n",
      " [1. 1. 1. 1. 1.]]\n"
     ]
    }
   ],
   "source": [
    "arr = np.ones(shape=(5,5)) #Creates a numpy array/matrix with the given order=shape, filled with ones in the places by default\n",
    "print(arr.dtype)\n",
    "print(arr)"
   ]
  },
  {
   "cell_type": "markdown",
   "metadata": {},
   "source": [
    "#### Eye Function"
   ]
  },
  {
   "cell_type": "code",
   "execution_count": 11,
   "metadata": {},
   "outputs": [
    {
     "data": {
      "text/plain": [
       "array([[1, 0, 0, 0, 0],\n",
       "       [0, 1, 0, 0, 0],\n",
       "       [0, 0, 1, 0, 0],\n",
       "       [0, 0, 0, 1, 0],\n",
       "       [0, 0, 0, 0, 1]])"
      ]
     },
     "execution_count": 11,
     "metadata": {},
     "output_type": "execute_result"
    }
   ],
   "source": [
    "np.eye(5, dtype=int)   #Returns an identity matrix"
   ]
  },
  {
   "cell_type": "markdown",
   "metadata": {},
   "source": [
    "#### Empty Function"
   ]
  },
  {
   "cell_type": "code",
   "execution_count": 12,
   "metadata": {},
   "outputs": [
    {
     "data": {
      "text/plain": [
       "array([[1., 1., 1., 1., 1.],\n",
       "       [1., 1., 1., 1., 1.],\n",
       "       [1., 1., 1., 1., 1.],\n",
       "       [1., 1., 1., 1., 1.],\n",
       "       [1., 1., 1., 1., 1.]])"
      ]
     },
     "execution_count": 12,
     "metadata": {},
     "output_type": "execute_result"
    }
   ],
   "source": [
    "np.empty(shape=(5,5)) #This will create an empty matrix"
   ]
  },
  {
   "cell_type": "markdown",
   "metadata": {},
   "source": [
    "#### Random Functions"
   ]
  },
  {
   "cell_type": "code",
   "execution_count": 13,
   "metadata": {},
   "outputs": [
    {
     "data": {
      "text/plain": [
       "array([[0.0094931 , 0.41252753, 0.04991815, 0.37330966],\n",
       "       [0.86012407, 0.20625245, 0.4590041 , 0.16167315],\n",
       "       [0.84103917, 0.81697871, 0.8408232 , 0.94919689]])"
      ]
     },
     "execution_count": 13,
     "metadata": {},
     "output_type": "execute_result"
    }
   ],
   "source": [
    "np.random.rand(3,4) #Creates an numpy array of random numbers with the given order. The range of numbers will be from 0 to 1."
   ]
  },
  {
   "cell_type": "code",
   "execution_count": 14,
   "metadata": {},
   "outputs": [
    {
     "data": {
      "text/plain": [
       "array([41,  1, 33, 24, 11])"
      ]
     },
     "execution_count": 14,
     "metadata": {},
     "output_type": "execute_result"
    }
   ],
   "source": [
    "np.random.randint(low=1, high=20, size=100,) #Creates a numpy array of random integers between the given low, high and of the given size\n",
    "np.random.randint(low=1, high=15, size=(3,4)) #Method 2\n",
    "np.random.randint(1,55,5) #Method 3"
   ]
  },
  {
   "cell_type": "code",
   "execution_count": 15,
   "metadata": {},
   "outputs": [
    {
     "name": "stdout",
     "output_type": "stream",
     "text": [
      "[-0.62366179 -0.3776722   0.07107734 ... -0.58146452  0.49833646\n",
      " -0.73486494]\n"
     ]
    },
    {
     "data": {
      "text/plain": [
       "(array([1., 0., 0., ..., 0., 0., 1.]),\n",
       " array([-4.4467957 , -4.44588586, -4.44497602, ...,  4.64977992,\n",
       "         4.65068976,  4.6515996 ]),\n",
       " <BarContainer object of 10000 artists>)"
      ]
     },
     "execution_count": 15,
     "metadata": {},
     "output_type": "execute_result"
    },
    {
     "data": {
      "image/png": "[encoded data removed]",
      "text/plain": [
       "<Figure size 640x480 with 1 Axes>"
      ]
     },
     "metadata": {},
     "output_type": "display_data"
    }
   ],
   "source": [
    "arr = np.random.randn(100000) #generate random numbers according to a specific probability distribution\n",
    "print(arr)\n",
    "import matplotlib.pyplot as plt\n",
    "plt.hist(arr, bins=10000)"
   ]
  },
  {
   "cell_type": "markdown",
   "metadata": {},
   "source": [
    "#### Reshape Function"
   ]
  },
  {
   "cell_type": "code",
   "execution_count": 16,
   "metadata": {},
   "outputs": [
    {
     "name": "stdout",
     "output_type": "stream",
     "text": [
      "(3, 4)\n",
      "[[ 5 12  3  8]\n",
      " [13  4 12 10]\n",
      " [14 11 13  1]]\n",
      "(4, 3)\n",
      "[[ 5 12  3]\n",
      " [ 8 13  4]\n",
      " [12 10 14]\n",
      " [11 13  1]]\n"
     ]
    }
   ],
   "source": [
    "arr = np.random.randint(low=1, high=15, size=(3,4))\n",
    "print(arr.shape)\n",
    "print(arr)\n",
    "arr = arr.reshape(4,3) #Reshape the array into a different order\n",
    "print(arr.shape)\n",
    "print(arr)\n",
    "#We can only reverse the shape into the same output size a*b = c , b*d =c"
   ]
  },
  {
   "cell_type": "markdown",
   "metadata": {},
   "source": [
    "#### Linespace function"
   ]
  },
  {
   "cell_type": "code",
   "execution_count": 17,
   "metadata": {},
   "outputs": [
    {
     "data": {
      "text/plain": [
       "array([ 1.,  2.,  3.,  4.,  5.,  6.,  7.,  8.,  9., 10.])"
      ]
     },
     "execution_count": 17,
     "metadata": {},
     "output_type": "execute_result"
    }
   ],
   "source": [
    "np.linspace(1,10,10) #Creates an numpy array of numbers which are equidistant from each other"
   ]
  },
  {
   "cell_type": "markdown",
   "metadata": {},
   "source": [
    "#### Flatten Function"
   ]
  },
  {
   "cell_type": "code",
   "execution_count": 18,
   "metadata": {},
   "outputs": [
    {
     "name": "stdout",
     "output_type": "stream",
     "text": [
      "(3, 4)\n",
      "[[12 10 13  8]\n",
      " [ 5 10 11 11]\n",
      " [ 3 12  7  5]]\n",
      "[12 10 13  8  5 10 11 11  3 12  7  5]\n"
     ]
    }
   ],
   "source": [
    "arr = np.random.randint(1,15,(3,4))\n",
    "print(arr.shape)\n",
    "print(arr)\n",
    "farr = arr.flatten() #Brings all the items of the arrays in one row\n",
    "print(farr)"
   ]
  },
  {
   "cell_type": "markdown",
   "metadata": {},
   "source": [
    "#### Logspace Function"
   ]
  },
  {
   "cell_type": "code",
   "execution_count": 19,
   "metadata": {},
   "outputs": [
    {
     "data": {
      "text/plain": [
       "array([ 4.        ,  4.66611616,  5.44316   ,  6.34960421,  7.4069977 ,\n",
       "        8.64047791, 10.0793684 , 11.75787594, 13.71590373, 16.        ])"
      ]
     },
     "execution_count": 19,
     "metadata": {},
     "output_type": "execute_result"
    }
   ],
   "source": [
    "np.logspace(2,4,10, base=2) #Creates a numpy array of the log values between the range, number of values and base\n"
   ]
  },
  {
   "cell_type": "markdown",
   "metadata": {},
   "source": [
    "#### Copy Function"
   ]
  },
  {
   "cell_type": "code",
   "execution_count": 20,
   "metadata": {},
   "outputs": [
    {
     "name": "stdout",
     "output_type": "stream",
     "text": [
      "[ 5  2  6  5  4  8  9  3  7 10]\n",
      "[ 5  2  6  5  4  8  9  3  7 10]\n",
      "[ 5  2  6  5  4  8  9  3  7 10]\n",
      "2176210598384\n",
      "2176210598384\n",
      "2176050453872\n"
     ]
    }
   ],
   "source": [
    "arr = np.random.randint(1,15,10)\n",
    "print(arr)\n",
    "arr2 = arr  #This will copy the reference of the array not the items.\n",
    "print(arr2)\n",
    "arr3 = arr.copy() #This will not copy the reference only the values\n",
    "print(arr3)\n",
    "print(id(arr))\n",
    "print(id(arr2))\n",
    "print(id(arr3))"
   ]
  },
  {
   "cell_type": "markdown",
   "metadata": {},
   "source": [
    "#### arr.max() , arr.min(), arr.sum() functions"
   ]
  },
  {
   "cell_type": "code",
   "execution_count": 21,
   "metadata": {},
   "outputs": [
    {
     "name": "stdout",
     "output_type": "stream",
     "text": [
      "[[14 11  4  5]\n",
      " [ 1  4 10  9]\n",
      " [ 3  2 11  9]]\n",
      "Max: 14\n",
      "Min: 1\n",
      "Sum: 83\n"
     ]
    }
   ],
   "source": [
    "arr = np.random.randint(1,15,(3,4))\n",
    "print(arr)\n",
    "print('Max:', arr.max())\n",
    "print('Min:',arr.min())\n",
    "print('Sum:',arr.sum())"
   ]
  },
  {
   "cell_type": "code",
   "execution_count": 22,
   "metadata": {},
   "outputs": [
    {
     "name": "stdout",
     "output_type": "stream",
     "text": [
      "[[13  8  9 11]\n",
      " [ 7  5  7 14]\n",
      " [ 5 10  4 12]]\n",
      "Max: [13 10  9 14]\n",
      "Min: [8 5 4]\n",
      "Sum: 105\n"
     ]
    }
   ],
   "source": [
    "arr = np.random.randint(1,15,(3,4))\n",
    "print(arr)\n",
    "print('Max:', arr.max(axis=0)) #for specific column\n",
    "print('Min:',arr.min(axis=1)) #for specific row\n",
    "print('Sum:',arr.sum())"
   ]
  },
  {
   "cell_type": "markdown",
   "metadata": {},
   "source": [
    "#### Seed Function"
   ]
  },
  {
   "cell_type": "code",
   "execution_count": 23,
   "metadata": {},
   "outputs": [
    {
     "data": {
      "text/plain": [
       "array([[9, 4, 9, 9, 1],\n",
       "       [6, 4, 6, 8, 7],\n",
       "       [1, 5, 8, 9, 2]])"
      ]
     },
     "execution_count": 23,
     "metadata": {},
     "output_type": "execute_result"
    }
   ],
   "source": [
    "np.random.seed(3) #Initialises a reference for the random values so that everytime we call this seed(number) the same set of random numbers is retured\n",
    "#Like a label, the seed value helps identify a specific sequence of random numbers generated by np.random.seed(). If you know the seed value, you can predict the sequence of random numbers produced.\n",
    "arr = np.random.randint(1,10,(3,5))\n",
    "arr"
   ]
  },
  {
   "cell_type": "markdown",
   "metadata": {},
   "source": [
    "#### Sorting Functions"
   ]
  },
  {
   "cell_type": "code",
   "execution_count": 24,
   "metadata": {},
   "outputs": [
    {
     "name": "stdout",
     "output_type": "stream",
     "text": [
      "[[9 4 9 9 1]\n",
      " [6 4 6 8 7]\n",
      " [1 5 8 9 2]]\n",
      "---------------\n",
      "[[1 4 9 9 9]\n",
      " [4 6 6 7 8]\n",
      " [1 2 5 8 9]]\n",
      "---------------\n",
      "[[1 4 6 8 1]\n",
      " [6 4 8 9 2]\n",
      " [9 5 9 9 7]]\n",
      "---------------\n"
     ]
    },
    {
     "data": {
      "text/plain": [
       "array([[1, 1, 2, 4, 4],\n",
       "       [5, 6, 6, 7, 8],\n",
       "       [8, 9, 9, 9, 9]])"
      ]
     },
     "execution_count": 24,
     "metadata": {},
     "output_type": "execute_result"
    }
   ],
   "source": [
    "np.random.seed(3)\n",
    "arr = np.random.randint(1,10,(3,5))\n",
    "print(arr)\n",
    "print('-'*15)\n",
    "print(np.sort(arr)) #By default, it is sorting the rows\n",
    "print('-'*15)\n",
    "print(np.sort(arr, axis=0)) #Here it is sorting the columns\n",
    "print('-'*15)\n",
    "arr.shape\n",
    "np.reshape(np.sort(arr.flatten()), arr.shape)"
   ]
  },
  {
   "cell_type": "code",
   "execution_count": 25,
   "metadata": {},
   "outputs": [
    {
     "data": {
      "text/plain": [
       "array([[1, 1, 2, 4, 4],\n",
       "       [5, 6, 6, 7, 8],\n",
       "       [8, 9, 9, 9, 9]])"
      ]
     },
     "execution_count": 25,
     "metadata": {},
     "output_type": "execute_result"
    }
   ],
   "source": [
    "np.reshape(np.sort(arr.flatten(), kind='mergesort'), arr.shape) #We can also tell the type of Sorting Algorithm we want"
   ]
  },
  {
   "cell_type": "markdown",
   "metadata": {},
   "source": [
    "#### Mathematical operations"
   ]
  },
  {
   "cell_type": "code",
   "execution_count": 26,
   "metadata": {},
   "outputs": [
    {
     "name": "stdout",
     "output_type": "stream",
     "text": [
      "[[9 4 9 9 1]\n",
      " [6 4 6 8 7]\n",
      " [1 5 8 9 2]]\n",
      "-------------------------\n",
      "[[10  5 10 10  2]\n",
      " [ 7  5  7  9  8]\n",
      " [ 2  6  9 10  3]]\n",
      "-------------------------\n",
      "[[8 3 8 8 0]\n",
      " [5 3 5 7 6]\n",
      " [0 4 7 8 1]]\n",
      "-------------------------\n",
      "[[27 12 27 27  3]\n",
      " [18 12 18 24 21]\n",
      " [ 3 15 24 27  6]]\n",
      "-------------------------\n",
      "[[3 1 3 3 0]\n",
      " [2 1 2 2 2]\n",
      " [0 1 2 3 0]]\n"
     ]
    }
   ],
   "source": [
    "np.random.seed(3)\n",
    "arr = np.random.randint(1,10,(3,5))\n",
    "print(arr)\n",
    "print('-'*25)\n",
    "print(arr+1)    # 1 is added to each item of the numpy array\n",
    "print('-'*25)\n",
    "print(arr-1)    # 1 is subtracted from each item of the numpy array\n",
    "print('-'*25)\n",
    "print(arr*3)    # 3 is multiplied by each item of the numpy array\n",
    "print('-'*25)\n",
    "print(arr//3)    # 3 is divided(quotient) by each item of the numpy array"
   ]
  },
  {
   "cell_type": "markdown",
   "metadata": {},
   "source": [
    "#### Matrix Multiplication"
   ]
  },
  {
   "cell_type": "code",
   "execution_count": 27,
   "metadata": {},
   "outputs": [
    {
     "name": "stdout",
     "output_type": "stream",
     "text": [
      "[[9 9]\n",
      " [7 3]] \n",
      " \n",
      " [[9 4]\n",
      " [9 9]]\n",
      "\n",
      " [[162 117]\n",
      " [ 90  55]]\n"
     ]
    }
   ],
   "source": [
    "np.random.seed(3)\n",
    "arr = np.random.randint(1,10,(2,2))\n",
    "np.random.seed(2)\n",
    "arr1 = np.random.randint(1,10,(2,2))\n",
    "print(arr1, '\\n \\n' ,arr)\n",
    "print('\\n', arr1.dot(arr))      #To multiply two matrices\n"
   ]
  },
  {
   "cell_type": "markdown",
   "metadata": {},
   "source": [
    "#### Power"
   ]
  },
  {
   "cell_type": "code",
   "execution_count": 28,
   "metadata": {},
   "outputs": [
    {
     "name": "stdout",
     "output_type": "stream",
     "text": [
      "[[81 16]\n",
      " [81 81]]\n"
     ]
    }
   ],
   "source": [
    "print(arr ** 2) #ALl the elements of matrix is raised to the given power"
   ]
  },
  {
   "cell_type": "markdown",
   "metadata": {},
   "source": [
    "#### Percentile"
   ]
  },
  {
   "cell_type": "code",
   "execution_count": 29,
   "metadata": {},
   "outputs": [
    {
     "name": "stdout",
     "output_type": "stream",
     "text": [
      "[9 4 9 9 1 6 4 6 8 7]\n",
      "[1 4 4 6 6 7 8 9 9 9]\n",
      "6.5\n"
     ]
    }
   ],
   "source": [
    "np.random.seed(3)\n",
    "arr = np.random.randint(1,10,10)\n",
    "print(arr)\n",
    "arrsort = np.sort(arr)\n",
    "print(arrsort)\n",
    "print(np.percentile(arrsort, 50)) #gives the percentile value from the sorted array"
   ]
  },
  {
   "cell_type": "markdown",
   "metadata": {},
   "source": [
    "#### Mean, Variance and Standard deviation"
   ]
  },
  {
   "cell_type": "code",
   "execution_count": 30,
   "metadata": {},
   "outputs": [
    {
     "name": "stdout",
     "output_type": "stream",
     "text": [
      "[9 4 9 9 1 6 4 6 8 7]\n",
      "mean :  6.3\n",
      "median :  6.410000000000001\n",
      "standard deviation :  2.5317977802344327\n"
     ]
    }
   ],
   "source": [
    "np.random.seed(3)\n",
    "arr = np.random.randint(1,10,10)\n",
    "print(arr)\n",
    "print('mean : ',arr.mean())\n",
    "print('median : ',arr.var())\n",
    "print('standard deviation : ',arr.std())"
   ]
  },
  {
   "cell_type": "markdown",
   "metadata": {},
   "source": [
    "#### Filtering an numpy array"
   ]
  },
  {
   "cell_type": "code",
   "execution_count": 31,
   "metadata": {},
   "outputs": [
    {
     "name": "stdout",
     "output_type": "stream",
     "text": [
      "[ 1  2  3  4  5  6  7  8  9 10 11 12 13 14]\n",
      "[False False False False False False False False False False  True  True\n",
      "  True  True]\n",
      "[ 6  7  8  9 10 11 12 13 14]\n",
      "[12 13 14]\n",
      "[10 10 10]\n"
     ]
    }
   ],
   "source": [
    "arr = np.arange(1,15)\n",
    "print(arr)\n",
    "print(arr>10)   #shows true for all the values which are greater than 10\n",
    "print(arr[arr>5])   #shows all the values which are greater than 5 as a seperate array\n",
    "arr2 = arr[arr>11]\n",
    "print(arr2)\n",
    "arr2[arr2>5]=10 #Replaces all the values greater than with 5\n",
    "print(arr2)"
   ]
  },
  {
   "cell_type": "markdown",
   "metadata": {},
   "source": [
    "#### Transpose of an array - Convert rows into columns and vice versa"
   ]
  },
  {
   "cell_type": "code",
   "execution_count": 35,
   "metadata": {},
   "outputs": [
    {
     "name": "stdout",
     "output_type": "stream",
     "text": [
      "[[ 2 16 17  6 18]\n",
      " [15  1  1 10 19]\n",
      " [ 6  8  6 15  2]]\n",
      "***************\n",
      "[[ 2 15  6]\n",
      " [16  1  8]\n",
      " [17  1  6]\n",
      " [ 6 10 15]\n",
      " [18 19  2]]\n"
     ]
    }
   ],
   "source": [
    "arr = np.random.randint(1,20,(3,5))\n",
    "print(arr)\n",
    "print('*'*15)\n",
    "print(arr.T)        #Gives the transpose of the array"
   ]
  }
 ],
 "metadata": {
  "kernelspec": {
   "display_name": "Python 3",
   "language": "python",
   "name": "python3"
  },
  "language_info": {
   "codemirror_mode": {
    "name": "ipython",
    "version": 3
   },
   "file_extension": ".py",
   "mimetype": "text/x-python",
   "name": "python",
   "nbconvert_exporter": "python",
   "pygments_lexer": "ipython3",
   "version": "3.12.4"
  }
 },
 "nbformat": 4,
 "nbformat_minor": 2
}
