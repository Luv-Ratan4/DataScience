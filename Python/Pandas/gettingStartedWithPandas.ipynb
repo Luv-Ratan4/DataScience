{
 "cells": [
  {
   "cell_type": "markdown",
   "metadata": {},
   "source": [
    "## Pandas"
   ]
  },
  {
   "cell_type": "markdown",
   "metadata": {},
   "source": [
    "## `Table of Contents`\n",
    "\n",
    "<div class='alert alert-success'>\n",
    "\n",
    "\n",
    "**1. Working with Pandas Series<br>\n",
    "    ----- a) Creating Series<br>\n",
    "    $\\;\\;\\;\\;\\;\\;$  $\\;\\;\\;\\;\\;\\;$   Series through list<br>\n",
    "    $\\;\\;\\;\\;\\;\\;$  $\\;\\;\\;\\;\\;\\;$ Series through Numpy Array<br>\n",
    "    $\\;\\;\\;\\;\\;\\;$  $\\;\\;\\;\\;\\;\\;$ Setting up our own index <br>\n",
    "    $\\;\\;\\;\\;\\;\\;$  $\\;\\;\\;\\;\\;\\;$ Series through dictionary<br>\n",
    "    $\\;\\;\\;\\;\\;\\;$  $\\;\\;\\;\\;\\;\\;$ Using `repeat` function along with creating a Series<br>\n",
    "    $\\;\\;\\;\\;\\;\\;$  $\\;\\;\\;\\;\\;\\;$ Accessing data from Series<br>\n",
    "     ----- b) Aggregate function on Pandas Series<br>\n",
    "     ----- c) Sereis Absolute Function<br>\n",
    "     ----- d) Appending Series<br>\n",
    "     ----- e) Astype Function<br>\n",
    "     ----- f) Between Functions<br>\n",
    "     ----- g) All strings functions can be used to extract or modify texts in a series<br>\n",
    "     $\\;\\;\\;\\;\\;\\;$  $\\;\\;\\;\\;\\;\\;$ Upper and Lower Function<br>\n",
    "     $\\;\\;\\;\\;\\;\\;$  $\\;\\;\\;\\;\\;\\;$ Len function<br>\n",
    "        $\\;\\;\\;\\;\\;\\;$  $\\;\\;\\;\\;\\;\\;$ Strip Function<br>\n",
    "        $\\;\\;\\;\\;\\;\\;$  $\\;\\;\\;\\;\\;\\;$ Split Function<br>\n",
    "        $\\;\\;\\;\\;\\;\\;$  $\\;\\;\\;\\;\\;\\;$ Contains Function<br>\n",
    "        $\\;\\;\\;\\;\\;\\;$  $\\;\\;\\;\\;\\;\\;$ Replace Function<br>\n",
    "        $\\;\\;\\;\\;\\;\\;$  $\\;\\;\\;\\;\\;\\;$ Count Function<br>\n",
    "        $\\;\\;\\;\\;\\;\\;$  $\\;\\;\\;\\;\\;\\;$ Startswith and Endswith Function<br>\n",
    "        $\\;\\;\\;\\;\\;\\;$  $\\;\\;\\;\\;\\;\\;$ Find Finction<br>\n",
    "     ----- h) Converting a Series to List<br><br>\n",
    " 2. Detailed Coding Implementations on Pandas DataFrame<br>\n",
    "     -----a) Creating Data Frames<br>\n",
    "     -----b) Slicing in DataFrames Using Iloc and Loc<br>\n",
    "    $\\;\\;\\;\\;\\;\\;$  $\\;\\;\\;\\;\\;\\;$ Basic Loc Operations<br>\n",
    "    $\\;\\;\\;\\;\\;\\;$  $\\;\\;\\;\\;\\;\\;$ Basic Iloc Operations<br>\n",
    "    $\\;\\;\\;\\;\\;\\;$  $\\;\\;\\;\\;\\;\\;$ Slicing Using Conditions<br>\n",
    "     -----c) Column Addition in DataFrames<br>\n",
    "    $\\;\\;\\;\\;\\;\\;$  $\\;\\;\\;\\;\\;\\;$ Using List<br>\n",
    "    $\\;\\;\\;\\;\\;\\;$  $\\;\\;\\;\\;\\;\\;$ Using Pandas Seires<br>\n",
    "    $\\;\\;\\;\\;\\;\\;$  $\\;\\;\\;\\;\\;\\;$ Using an Existing Column<br>\n",
    "     -----d) Deleting Column in DataFrame<br>\n",
    "    $\\;\\;\\;\\;\\;\\;$  $\\;\\;\\;\\;\\;\\;$ Using del<br>\n",
    "    $\\;\\;\\;\\;\\;\\;$  $\\;\\;\\;\\;\\;\\;$ Using pop function<br>\n",
    "    ----- e) Addition of rows<br>\n",
    "    ----- f) Drop function<br>\n",
    "    ----- g) Transposing a DataFrame<br>\n",
    "    ----- h) A set of more DataFrame Functionalities<br>\n",
    "     $\\;\\;\\;\\;\\;\\;$  $\\;\\;\\;\\;\\;\\;$  axes function<br>\n",
    "     $\\;\\;\\;\\;\\;\\;$  $\\;\\;\\;\\;\\;\\;$  ndim function<br>\n",
    "     $\\;\\;\\;\\;\\;\\;$  $\\;\\;\\;\\;\\;\\;$  dtypes function<br>\n",
    "     $\\;\\;\\;\\;\\;\\;$  $\\;\\;\\;\\;\\;\\;$  shape function<br>\n",
    "     $\\;\\;\\;\\;\\;\\;$  $\\;\\;\\;\\;\\;\\;$  head function<br>\n",
    "     $\\;\\;\\;\\;\\;\\;$  $\\;\\;\\;\\;\\;\\;$  tail function<br>\n",
    "     $\\;\\;\\;\\;\\;\\;$  $\\;\\;\\;\\;\\;\\;$  empty function<br>\n",
    "    ----- i) Statistical or Mathematical Functions<br>\n",
    "    $\\;\\;\\;\\;\\;\\;$  $\\;\\;\\;\\;\\;\\;$ Sum<br>\n",
    "    $\\;\\;\\;\\;\\;\\;$  $\\;\\;\\;\\;\\;\\;$ Mean<br>\n",
    "    $\\;\\;\\;\\;\\;\\;$  $\\;\\;\\;\\;\\;\\;$ Median<br>\n",
    "    $\\;\\;\\;\\;\\;\\;$  $\\;\\;\\;\\;\\;\\;$ Mode<br>\n",
    "    $\\;\\;\\;\\;\\;\\;$  $\\;\\;\\;\\;\\;\\;$ Variance<br>\n",
    "    $\\;\\;\\;\\;\\;\\;$  $\\;\\;\\;\\;\\;\\;$ Min<br>\n",
    "    $\\;\\;\\;\\;\\;\\;$  $\\;\\;\\;\\;\\;\\;$ Max<br>\n",
    "    $\\;\\;\\;\\;\\;\\;$  $\\;\\;\\;\\;\\;\\;$ Standard Deviation<br>\n",
    "    ----- j) Describe Function<br>\n",
    "    ----- k) Pipe Functions:<br>\n",
    "     $\\;\\;\\;\\;\\;\\;$  $\\;\\;\\;\\;\\;\\;$ Pipe function<br>\n",
    "     $\\;\\;\\;\\;\\;\\;$  $\\;\\;\\;\\;\\;\\;$ Apply Function<br>\n",
    "     $\\;\\;\\;\\;\\;\\;$  $\\;\\;\\;\\;\\;\\;$ Applymap Function<br>\n",
    "    ----- l) Reindex Function<br>\n",
    "    ----- m) Renaming Columns in Pandas DataFrame<br>\n",
    "    ----- n) Sorting in Pandas DataFrame<br>\n",
    "    ----- o) Groupby Functions<br>\n",
    "    $\\;\\;\\;\\;\\;\\;$  $\\;\\;\\;\\;\\;\\;$ Adding Statistical Computation on groupby<br>\n",
    "    $\\;\\;\\;\\;\\;\\;$  $\\;\\;\\;\\;\\;\\;$ Using Filter Function with Groupby<br><br>\n",
    "3. Working with csv files and basic data Analysis Using Pandas<br>  \n",
    "    -----a) Reading CSV<br>\n",
    "    -----b) Info Function<br>\n",
    "    -----c) isnull() Function<br>\n",
    "    -----d) Quantile Function<br>\n",
    "    -----e) Copy Function<br>\n",
    "    -----f) Value Counts Function<br>\n",
    "    -----g) Unique and Nunique functopn<br>\n",
    "    -----h) dropna() function<br>\n",
    "    -----i) fillna() fucntion<br>\n",
    "    -----j) sample Functions<br>\n",
    "    -----k) to_csv() functions<br><br>\n",
    "4. A detailed Pandas Profile Report**\n",
    "\n"
   ]
  },
  {
   "cell_type": "code",
   "execution_count": 2,
   "metadata": {},
   "outputs": [
    {
     "data": {
      "text/plain": [
       "'2.1.1'"
      ]
     },
     "execution_count": 2,
     "metadata": {},
     "output_type": "execute_result"
    }
   ],
   "source": [
    "import pandas as pd\n",
    "import numpy as np\n",
    "pd.__version__  #This will give us the current version of pandas"
   ]
  },
  {
   "cell_type": "markdown",
   "metadata": {},
   "source": [
    "##### Series through a list"
   ]
  },
  {
   "cell_type": "code",
   "execution_count": 3,
   "metadata": {},
   "outputs": [
    {
     "name": "stdout",
     "output_type": "stream",
     "text": [
      "[1 2 4 5 6] <class 'numpy.ndarray'>\n",
      "0    1\n",
      "1    2\n",
      "2    4\n",
      "3    5\n",
      "4    6\n",
      "dtype: int32 <class 'pandas.core.series.Series'>\n",
      "one     1\n",
      "two     2\n",
      "four    4\n",
      "five    5\n",
      "six     6\n",
      "dtype: int32 <class 'pandas.core.series.Series'>\n",
      "day1    4000\n",
      "day2    3000\n",
      "day3    4500\n",
      "day4    5000\n",
      "dtype: int64 <class 'pandas.core.series.Series'>\n"
     ]
    }
   ],
   "source": [
    "lst = [1,2,4,5,6]\n",
    "arr = np.array(lst)\n",
    "#series from numpy array\n",
    "print(arr, type(arr))\n",
    "srr = pd.Series(arr) #Converts any PYTHON LIST or NUMPY ARRAY to PANDAS SERIES and the series will have the labels as 0,1,2 etc. by default\n",
    "print(srr, type(srr)) \n",
    "#Giving our own labels\n",
    "srr = pd.Series(arr, index=['one','two','four','five','six',]) #We can label the rows by ourselves\n",
    "print(srr, type(srr)) \n",
    "#Series through dictionary values\n",
    "steps = {'day1': 4000, 'day2': 3000, 'day3': 4500, 'day4': 5000,}\n",
    "srr = pd.Series(steps)\n",
    "print(srr, type(srr))"
   ]
  },
  {
   "cell_type": "markdown",
   "metadata": {},
   "source": [
    "#### Using repeat along with creating a series"
   ]
  },
  {
   "cell_type": "code",
   "execution_count": 4,
   "metadata": {},
   "outputs": [
    {
     "name": "stdout",
     "output_type": "stream",
     "text": [
      "0    5\n",
      "dtype: int64\n",
      "0    5\n",
      "0    5\n",
      "0    5\n",
      "0    5\n",
      "0    5\n",
      "dtype: int64\n",
      "   index  0\n",
      "0      0  5\n",
      "1      0  5\n",
      "2      0  5\n",
      "3      0  5\n",
      "4      0  5\n"
     ]
    },
    {
     "data": {
      "text/plain": [
       "0    5\n",
       "1    5\n",
       "2    5\n",
       "3    5\n",
       "4    5\n",
       "dtype: int64"
      ]
     },
     "execution_count": 4,
     "metadata": {},
     "output_type": "execute_result"
    }
   ],
   "source": [
    "print(pd.Series(5)) #creates a series with an element 5 at label 0\n",
    "print(pd.Series(5).repeat(5))   #Repeats the same element n number of times with the same index\n",
    "print(pd.Series(5).repeat(5).reset_index()) #Resets the index to integers starting with 0,1,2 etc, but in a data frame\n",
    "pd.Series(5).repeat(5).reset_index(drop=True) #This wil not give a dataframe but a series\n"
   ]
  },
  {
   "cell_type": "markdown",
   "metadata": {},
   "source": [
    "#### Accessing the elements"
   ]
  },
  {
   "cell_type": "code",
   "execution_count": 5,
   "metadata": {},
   "outputs": [
    {
     "name": "stdout",
     "output_type": "stream",
     "text": [
      "0    10\n",
      "1    10\n",
      "2    10\n",
      "3    10\n",
      "4    10\n",
      "5    20\n",
      "6    20\n",
      "dtype: int64\n",
      "10\n"
     ]
    }
   ],
   "source": [
    "series = pd.Series([10,20]).repeat([5,2]).reset_index(drop=True) # Repeats 10 five times and 20 two times\n",
    "print(series)\n",
    "print(series[2]) #We can access the elements in the same way as we access data in arrays in any other programming language"
   ]
  },
  {
   "cell_type": "code",
   "execution_count": 6,
   "metadata": {},
   "outputs": [
    {
     "name": "stdout",
     "output_type": "stream",
     "text": [
      "0    10\n",
      "1    10\n",
      "2    10\n",
      "3    10\n",
      "4    10\n",
      "5    20\n",
      "6    20\n",
      "dtype: int64\n",
      "--------------------\n",
      "2    10\n",
      "3    10\n",
      "4    10\n",
      "dtype: int64\n",
      "--------------------\n",
      "0    10\n",
      "1    10\n",
      "2    10\n",
      "3    10\n",
      "4    10\n",
      "5    20\n",
      "6    20\n",
      "dtype: int64\n",
      "--------------------\n",
      "0    10\n",
      "1    10\n",
      "2    10\n",
      "3    10\n",
      "dtype: int64\n",
      "--------------------\n",
      "5    20\n",
      "6    20\n",
      "dtype: int64\n",
      "--------------------\n",
      "2    10\n",
      "3    10\n",
      "4    10\n",
      "5    20\n",
      "dtype: int64\n"
     ]
    }
   ],
   "source": [
    "print(series) #This will print all the values\n",
    "print('-'*20)\n",
    "print(series[2:5]) #Returns element from given index to the other given index\n",
    "print('-'*20)\n",
    "print(series[:]) #Again returns all the elements\n",
    "print('-'*20)\n",
    "print(series[:4]) #Returns elements from index 0 to index 4\n",
    "print('-'*20)\n",
    "print(series[5:]) #Returns elements from index 5 to end\n",
    "print('-'*20)\n",
    "print(series[2:-1]) #Returns elements starting from index 2 till the elements in the second index from the last"
   ]
  },
  {
   "cell_type": "markdown",
   "metadata": {},
   "source": [
    "#### Aggregate functions"
   ]
  },
  {
   "cell_type": "code",
   "execution_count": 7,
   "metadata": {},
   "outputs": [
    {
     "name": "stdout",
     "output_type": "stream",
     "text": [
      "0    1\n",
      "1    2\n",
      "2    3\n",
      "3    4\n",
      "4    5\n",
      "5    6\n",
      "6    7\n",
      "7    8\n",
      "8    9\n",
      "dtype: int64\n"
     ]
    },
    {
     "data": {
      "text/plain": [
       "min     1\n",
       "max     9\n",
       "sum    45\n",
       "dtype: int64"
      ]
     },
     "execution_count": 7,
     "metadata": {},
     "output_type": "execute_result"
    }
   ],
   "source": [
    "sr = pd.Series([1,2,3,4,5,6,7,8,9])\n",
    "print(sr)\n",
    "sr.aggregate(['min','max','sum'])"
   ]
  },
  {
   "cell_type": "markdown",
   "metadata": {},
   "source": [
    "#### Series absolute function"
   ]
  },
  {
   "cell_type": "code",
   "execution_count": 9,
   "metadata": {},
   "outputs": [
    {
     "name": "stdout",
     "output_type": "stream",
     "text": [
      "0    1\n",
      "1   -2\n",
      "2    5\n",
      "3   -5\n",
      "4    9\n",
      "5   -6\n",
      "dtype: int64\n"
     ]
    },
    {
     "data": {
      "text/plain": [
       "0    1\n",
       "1    2\n",
       "2    5\n",
       "3    5\n",
       "4    9\n",
       "5    6\n",
       "dtype: int64"
      ]
     },
     "execution_count": 9,
     "metadata": {},
     "output_type": "execute_result"
    }
   ],
   "source": [
    "sr = pd.Series([1,-2,5,-5,9,-6])\n",
    "print(sr)\n",
    "sr.abs() #Makes negative numbers as positive. Returns absolute of a number."
   ]
  },
  {
   "cell_type": "markdown",
   "metadata": {},
   "source": [
    "#### Appending Series"
   ]
  },
  {
   "cell_type": "code",
   "execution_count": 16,
   "metadata": {},
   "outputs": [
    {
     "data": {
      "text/plain": [
       "0     1\n",
       "0    55\n",
       "dtype: int64"
      ]
     },
     "execution_count": 16,
     "metadata": {},
     "output_type": "execute_result"
    }
   ],
   "source": [
    "sr1 = pd.Series([1,-2,5,-5,9,-6])\n",
    "sr2 = pd.Series([55,44,88,99,525])\n",
    "sr3 = pd.concat([sr1,sr2])        #To concat/merge two series together, but the indexes are also taken in the same order\n",
    "sr3[0]  #This will give two output"
   ]
  },
  {
   "cell_type": "code",
   "execution_count": 20,
   "metadata": {},
   "outputs": [
    {
     "data": {
      "text/plain": [
       "0       1\n",
       "1      -2\n",
       "2       5\n",
       "3      -5\n",
       "4       9\n",
       "5      -6\n",
       "6      55\n",
       "7      44\n",
       "8      88\n",
       "9      99\n",
       "10    525\n",
       "dtype: int64"
      ]
     },
     "execution_count": 20,
     "metadata": {},
     "output_type": "execute_result"
    }
   ],
   "source": [
    "pd.concat([sr1,sr2]).reset_index(drop=True) #By doing this, pandas is assigning default integer values in the index"
   ]
  },
  {
   "cell_type": "markdown",
   "metadata": {},
   "source": [
    "#### Astype Function"
   ]
  },
  {
   "cell_type": "code",
   "execution_count": 33,
   "metadata": {},
   "outputs": [
    {
     "name": "stdout",
     "output_type": "stream",
     "text": [
      "<class 'pandas.core.series.Series'>\n",
      "0    1.0\n",
      "1   -2.0\n",
      "2    5.0\n",
      "3   -5.0\n",
      "4    9.0\n",
      "5   -6.0\n",
      "dtype: float64\n",
      "<class 'pandas.core.series.Series'>\n",
      "<class 'str'>\n"
     ]
    }
   ],
   "source": [
    "print(type(sr1))\n",
    "print(sr1.astype('float')) #Changes the type of data in the series to float\n",
    "print(type(sr1.astype('float'))) \n",
    "str = sr1.astype('str') #Converts the type of data in the series to string\n",
    "print(type(str[2]))\n",
    "\n"
   ]
  },
  {
   "cell_type": "markdown",
   "metadata": {},
   "source": [
    "#### Between Function"
   ]
  },
  {
   "cell_type": "code",
   "execution_count": 39,
   "metadata": {},
   "outputs": [
    {
     "data": {
      "text/plain": [
       "0    False\n",
       "1    False\n",
       "2     True\n",
       "3     True\n",
       "4    False\n",
       "5    False\n",
       "6    False\n",
       "7    False\n",
       "8    False\n",
       "9    False\n",
       "dtype: bool"
      ]
     },
     "execution_count": 39,
     "metadata": {},
     "output_type": "execute_result"
    }
   ],
   "source": [
    "str1 = pd.Series([1,22,3,4,55,65,7,8,9,10])\n",
    "str1.between(2,6) #Tells us if the particular element in the series is in between the given range"
   ]
  },
  {
   "cell_type": "markdown",
   "metadata": {},
   "source": [
    "#### All strings functions can be used to extract or modify texts in a series\n",
    "\n",
    " $\\;\\;\\;\\;\\;\\;$  $\\;\\;\\;\\;\\;\\;$ Upper and Lower Function<br>\n",
    "    $\\;\\;\\;\\;\\;\\;$  $\\;\\;\\;\\;\\;\\;$ Len function<br>\n",
    "        $\\;\\;\\;\\;\\;\\;$  $\\;\\;\\;\\;\\;\\;$ Strip Function<br>\n",
    "        $\\;\\;\\;\\;\\;\\;$  $\\;\\;\\;\\;\\;\\;$ Split Function<br>\n",
    "        $\\;\\;\\;\\;\\;\\;$  $\\;\\;\\;\\;\\;\\;$ Contains Function<br>\n",
    "        $\\;\\;\\;\\;\\;\\;$  $\\;\\;\\;\\;\\;\\;$ Replace Function<br>\n",
    "        $\\;\\;\\;\\;\\;\\;$  $\\;\\;\\;\\;\\;\\;$ Count Function<br>\n",
    "        $\\;\\;\\;\\;\\;\\;$  $\\;\\;\\;\\;\\;\\;$ Startswith and Endswith Function<br>\n",
    "        $\\;\\;\\;\\;\\;\\;$  $\\;\\;\\;\\;\\;\\;$ Find Finction<br>"
   ]
  },
  {
   "cell_type": "markdown",
   "metadata": {},
   "source": [
    "#### Upper and lower case"
   ]
  },
  {
   "cell_type": "code",
   "execution_count": 47,
   "metadata": {},
   "outputs": [
    {
     "name": "stdout",
     "output_type": "stream",
     "text": [
      "0           Luv Ratan\n",
      "1        Data Science\n",
      "2     Geeks for Geeks\n",
      "3         Hello World\n",
      "4    Machine Learning\n",
      "5                  56\n",
      "dtype: object\n",
      "0           LUV RATAN\n",
      "1        DATA SCIENCE\n",
      "2     GEEKS FOR GEEKS\n",
      "3         HELLO WORLD\n",
      "4    MACHINE LEARNING\n",
      "5                 NaN\n",
      "dtype: object\n",
      "0           luv ratan\n",
      "1        data science\n",
      "2     geeks for geeks\n",
      "3         hello world\n",
      "4    machine learning\n",
      "5                 NaN\n",
      "dtype: object\n"
     ]
    }
   ],
   "source": [
    "ser = pd.Series([\"Luv Ratan\" , \"Data Science\" , \"Geeks for Geeks\" , 'Hello World' , 'Machine Learning', 56])   \n",
    "print(ser)     \n",
    "\n",
    "#Converting all the string value series to upper case\n",
    "print(ser.str.upper()) \n",
    "#Converting all the string value series to lower case\n",
    "print(ser.str.lower()) "
   ]
  },
  {
   "cell_type": "markdown",
   "metadata": {},
   "source": [
    "#### Length Function"
   ]
  },
  {
   "cell_type": "code",
   "execution_count": 57,
   "metadata": {},
   "outputs": [
    {
     "name": "stdout",
     "output_type": "stream",
     "text": [
      "5\n",
      "---------------\n",
      "15\n",
      "17\n",
      "15\n",
      "13\n",
      "16\n"
     ]
    }
   ],
   "source": [
    "ser = pd.Series([\"Luv Ratan      \" , \"     Data Science\" , \"Geeks for Geeks\" , '  Hello World' , 'Machine Learning']) \n",
    "print(len(ser) ) #Returns the length of the series, that means the number of items on the seies\n",
    "print('-'*15)\n",
    "#Printing the length of each item which is a string in the series\n",
    "for i in ser:\n",
    "    print(len(i))"
   ]
  },
  {
   "cell_type": "markdown",
   "metadata": {},
   "source": [
    "#### Strip Function"
   ]
  },
  {
   "cell_type": "code",
   "execution_count": 59,
   "metadata": {},
   "outputs": [
    {
     "name": "stdout",
     "output_type": "stream",
     "text": [
      "0           Luv Ratan\n",
      "1        Data Science\n",
      "2     Geeks for Geeks\n",
      "3         Hello World\n",
      "4    Machine Learning\n",
      "dtype: object\n",
      "0           Luv Ratan\n",
      "1        Data Science\n",
      "2     Geeks for Geeks\n",
      "3         Hello World\n",
      "4    Machine Learning\n",
      "dtype: object\n"
     ]
    }
   ],
   "source": [
    "print(ser)\n",
    "ser = ser.str.strip()   #Removes all the extra spaces from left and right of the string but does not remove from between two strings\n",
    "print(ser)"
   ]
  },
  {
   "cell_type": "markdown",
   "metadata": {},
   "source": [
    "#### Split functions"
   ]
  },
  {
   "cell_type": "code",
   "execution_count": 66,
   "metadata": {},
   "outputs": [
    {
     "name": "stdout",
     "output_type": "stream",
     "text": [
      "0           Luv Ratan\n",
      "1        Data Science\n",
      "2     Geeks for Geeks\n",
      "3         Hello World\n",
      "4    Machine Learning\n",
      "dtype: object\n",
      "0           [Luv, Ratan]\n",
      "1        [Data, Science]\n",
      "2    [Geeks, for, Geeks]\n",
      "3         [Hello, World]\n",
      "4    [Machine, Learning]\n",
      "dtype: object\n"
     ]
    },
    {
     "data": {
      "text/plain": [
       "['Luv', 'Ratan']"
      ]
     },
     "execution_count": 66,
     "metadata": {},
     "output_type": "execute_result"
    }
   ],
   "source": [
    "print(ser)\n",
    "\n",
    "print(ser.str.split())   #Splits all the items from the space using a comma and returns a nested Series\n",
    "ser.str.split()[0]"
   ]
  },
  {
   "cell_type": "code",
   "execution_count": 72,
   "metadata": {},
   "outputs": [
    {
     "name": "stdout",
     "output_type": "stream",
     "text": [
      "['10', '12', '24']\n",
      "['23', '02', '24']\n",
      "['18', '6,24']\n"
     ]
    }
   ],
   "source": [
    "dateser = pd.Series(['10/12/24','23/02/24','18/6,24'])\n",
    "print(dateser.str.split('/')[0])    #By default, it splits from space but we can explicitly tell pandas from where we want to split the string\n",
    "print(dateser.str.split('/')[1])\n",
    "print(dateser.str.split('/')[2])"
   ]
  },
  {
   "cell_type": "markdown",
   "metadata": {},
   "source": [
    "#### Contain Function"
   ]
  },
  {
   "cell_type": "code",
   "execution_count": 75,
   "metadata": {},
   "outputs": [
    {
     "name": "stdout",
     "output_type": "stream",
     "text": [
      "0           Luv Ratan\n",
      "1        Data Science\n",
      "2     Geeks for Geeks\n",
      "3         Hello World\n",
      "4    Machine Learning\n",
      "dtype: object\n"
     ]
    },
    {
     "data": {
      "text/plain": [
       "0    False\n",
       "1    False\n",
       "2     True\n",
       "3    False\n",
       "4    False\n",
       "dtype: bool"
      ]
     },
     "execution_count": 75,
     "metadata": {},
     "output_type": "execute_result"
    }
   ],
   "source": [
    "print(ser)\n",
    "ser.str.contains('for') #Will give True for the index where the given string is found"
   ]
  },
  {
   "cell_type": "markdown",
   "metadata": {},
   "source": [
    "#### Replace Function"
   ]
  },
  {
   "cell_type": "code",
   "execution_count": 77,
   "metadata": {},
   "outputs": [
    {
     "data": {
      "text/plain": [
       "0           Luv Ratan\n",
       "1        Data Science\n",
       "2     Geeks fo@ Geeks\n",
       "3         Hello Wo@ld\n",
       "4    Machine Lea@ning\n",
       "dtype: object"
      ]
     },
     "execution_count": 77,
     "metadata": {},
     "output_type": "execute_result"
    }
   ],
   "source": [
    "ser.str.replace('r', '@') #Replaces the item with another given item wherever found"
   ]
  },
  {
   "cell_type": "markdown",
   "metadata": {},
   "source": [
    "#### Count Function"
   ]
  },
  {
   "cell_type": "code",
   "execution_count": 80,
   "metadata": {},
   "outputs": [
    {
     "data": {
      "text/plain": [
       "0    1\n",
       "1    0\n",
       "2    0\n",
       "3    0\n",
       "4    0\n",
       "dtype: int64"
      ]
     },
     "execution_count": 80,
     "metadata": {},
     "output_type": "execute_result"
    }
   ],
   "source": [
    "ser.str.count('Luv') #Counts the number of times the item has appeared in all the strings of each element\n"
   ]
  },
  {
   "cell_type": "markdown",
   "metadata": {},
   "source": [
    "#### Starts with and ends with"
   ]
  },
  {
   "cell_type": "code",
   "execution_count": 83,
   "metadata": {},
   "outputs": [
    {
     "name": "stdout",
     "output_type": "stream",
     "text": [
      "0     True\n",
      "1    False\n",
      "2    False\n",
      "3    False\n",
      "4    False\n",
      "dtype: bool\n",
      "0    False\n",
      "1    False\n",
      "2    False\n",
      "3     True\n",
      "4    False\n",
      "dtype: bool\n"
     ]
    }
   ],
   "source": [
    "print(ser.str.startswith('Luv'))    #Returns True for the indexes of element where this particular word starts with\n",
    "print(ser.str.endswith('ld'))   #Returns True for the indexes of element where this particular word ends with"
   ]
  },
  {
   "cell_type": "markdown",
   "metadata": {},
   "source": [
    "#### Find Function"
   ]
  },
  {
   "cell_type": "code",
   "execution_count": 85,
   "metadata": {},
   "outputs": [
    {
     "data": {
      "text/plain": [
       "0    0.0\n",
       "1   -1.0\n",
       "2   -1.0\n",
       "3   -1.0\n",
       "4   -1.0\n",
       "5    NaN\n",
       "dtype: float64"
      ]
     },
     "execution_count": 85,
     "metadata": {},
     "output_type": "execute_result"
    }
   ],
   "source": [
    "ser = pd.Series([\"Luv Ratan\" , \"Data Science\" , \"Geeks for Geeks\" , 'Hello World' , 'Machine Learning', 56])  \n",
    "ser.str.find('Luv')   #Returns 0 for the index of the element where it found that item"
   ]
  },
  {
   "cell_type": "markdown",
   "metadata": {},
   "source": [
    "#### Converting a Series into a list"
   ]
  },
  {
   "cell_type": "code",
   "execution_count": 88,
   "metadata": {},
   "outputs": [
    {
     "name": "stdout",
     "output_type": "stream",
     "text": [
      "<class 'pandas.core.series.Series'>\n",
      "<class 'list'>\n"
     ]
    }
   ],
   "source": [
    "print(type(ser))\n",
    "print(type(ser.to_list())) #Converts a Pandas Series to Python list"
   ]
  }
 ],
 "metadata": {
  "kernelspec": {
   "display_name": "Python 3",
   "language": "python",
   "name": "python3"
  },
  "language_info": {
   "codemirror_mode": {
    "name": "ipython",
    "version": 3
   },
   "file_extension": ".py",
   "mimetype": "text/x-python",
   "name": "python",
   "nbconvert_exporter": "python",
   "pygments_lexer": "ipython3",
   "version": "3.12.4"
  }
 },
 "nbformat": 4,
 "nbformat_minor": 2
}
