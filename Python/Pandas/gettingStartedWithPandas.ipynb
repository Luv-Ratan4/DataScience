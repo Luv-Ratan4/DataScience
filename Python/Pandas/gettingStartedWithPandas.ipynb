{
 "cells": [
  {
   "cell_type": "markdown",
   "metadata": {},
   "source": [
    "## Pandas"
   ]
  },
  {
   "cell_type": "markdown",
   "metadata": {},
   "source": [
    "## `Table of Contents`\n",
    "\n",
    "<div class='alert alert-success'>\n",
    "\n",
    "\n",
    "**1. Working with Pandas Series<br>\n",
    "    ----- a) Creating Series<br>\n",
    "    $\\;\\;\\;\\;\\;\\;$  $\\;\\;\\;\\;\\;\\;$   Series through list<br>\n",
    "    $\\;\\;\\;\\;\\;\\;$  $\\;\\;\\;\\;\\;\\;$ Series through Numpy Array<br>\n",
    "    $\\;\\;\\;\\;\\;\\;$  $\\;\\;\\;\\;\\;\\;$ Setting up our own index <br>\n",
    "    $\\;\\;\\;\\;\\;\\;$  $\\;\\;\\;\\;\\;\\;$ Series through dictionary<br>\n",
    "    $\\;\\;\\;\\;\\;\\;$  $\\;\\;\\;\\;\\;\\;$ Using `repeat` function along with creating a Series<br>\n",
    "    $\\;\\;\\;\\;\\;\\;$  $\\;\\;\\;\\;\\;\\;$ Accessing data from Series<br>\n",
    "     ----- b) Aggregate function on Pandas Series<br>\n",
    "     ----- c) Sereis Absolute Function<br>\n",
    "     ----- d) Appending Series<br>\n",
    "     ----- e) Astype Function<br>\n",
    "     ----- f) Between Functions<br>\n",
    "     ----- g) All strings functions can be used to extract or modify texts in a series<br>\n",
    "     $\\;\\;\\;\\;\\;\\;$  $\\;\\;\\;\\;\\;\\;$ Upper and Lower Function<br>\n",
    "     $\\;\\;\\;\\;\\;\\;$  $\\;\\;\\;\\;\\;\\;$ Len function<br>\n",
    "        $\\;\\;\\;\\;\\;\\;$  $\\;\\;\\;\\;\\;\\;$ Strip Function<br>\n",
    "        $\\;\\;\\;\\;\\;\\;$  $\\;\\;\\;\\;\\;\\;$ Split Function<br>\n",
    "        $\\;\\;\\;\\;\\;\\;$  $\\;\\;\\;\\;\\;\\;$ Contains Function<br>\n",
    "        $\\;\\;\\;\\;\\;\\;$  $\\;\\;\\;\\;\\;\\;$ Replace Function<br>\n",
    "        $\\;\\;\\;\\;\\;\\;$  $\\;\\;\\;\\;\\;\\;$ Count Function<br>\n",
    "        $\\;\\;\\;\\;\\;\\;$  $\\;\\;\\;\\;\\;\\;$ Startswith and Endswith Function<br>\n",
    "        $\\;\\;\\;\\;\\;\\;$  $\\;\\;\\;\\;\\;\\;$ Find Finction<br>\n",
    "     ----- h) Converting a Series to List<br><br>\n",
    " 2. Detailed Coding Implementations on Pandas DataFrame<br>\n",
    "     -----a) Creating Data Frames<br>\n",
    "     -----b) Slicing in DataFrames Using Iloc and Loc<br>\n",
    "    $\\;\\;\\;\\;\\;\\;$  $\\;\\;\\;\\;\\;\\;$ Basic Loc Operations<br>\n",
    "    $\\;\\;\\;\\;\\;\\;$  $\\;\\;\\;\\;\\;\\;$ Basic Iloc Operations<br>\n",
    "    $\\;\\;\\;\\;\\;\\;$  $\\;\\;\\;\\;\\;\\;$ Slicing Using Conditions<br>\n",
    "     -----c) Column Addition in DataFrames<br>\n",
    "    $\\;\\;\\;\\;\\;\\;$  $\\;\\;\\;\\;\\;\\;$ Using List<br>\n",
    "    $\\;\\;\\;\\;\\;\\;$  $\\;\\;\\;\\;\\;\\;$ Using Pandas Seires<br>\n",
    "    $\\;\\;\\;\\;\\;\\;$  $\\;\\;\\;\\;\\;\\;$ Using an Existing Column<br>\n",
    "     -----d) Deleting Column in DataFrame<br>\n",
    "    $\\;\\;\\;\\;\\;\\;$  $\\;\\;\\;\\;\\;\\;$ Using del<br>\n",
    "    $\\;\\;\\;\\;\\;\\;$  $\\;\\;\\;\\;\\;\\;$ Using pop function<br>\n",
    "    ----- e) Addition of rows<br>\n",
    "    ----- f) Drop function<br>\n",
    "    ----- g) Transposing a DataFrame<br>\n",
    "    ----- h) A set of more DataFrame Functionalities<br>\n",
    "     $\\;\\;\\;\\;\\;\\;$  $\\;\\;\\;\\;\\;\\;$  axes function<br>\n",
    "     $\\;\\;\\;\\;\\;\\;$  $\\;\\;\\;\\;\\;\\;$  ndim function<br>\n",
    "     $\\;\\;\\;\\;\\;\\;$  $\\;\\;\\;\\;\\;\\;$  dtypes function<br>\n",
    "     $\\;\\;\\;\\;\\;\\;$  $\\;\\;\\;\\;\\;\\;$  shape function<br>\n",
    "     $\\;\\;\\;\\;\\;\\;$  $\\;\\;\\;\\;\\;\\;$  head function<br>\n",
    "     $\\;\\;\\;\\;\\;\\;$  $\\;\\;\\;\\;\\;\\;$  tail function<br>\n",
    "     $\\;\\;\\;\\;\\;\\;$  $\\;\\;\\;\\;\\;\\;$  empty function<br>\n",
    "    ----- i) Statistical or Mathematical Functions<br>\n",
    "    $\\;\\;\\;\\;\\;\\;$  $\\;\\;\\;\\;\\;\\;$ Sum<br>\n",
    "    $\\;\\;\\;\\;\\;\\;$  $\\;\\;\\;\\;\\;\\;$ Mean<br>\n",
    "    $\\;\\;\\;\\;\\;\\;$  $\\;\\;\\;\\;\\;\\;$ Median<br>\n",
    "    $\\;\\;\\;\\;\\;\\;$  $\\;\\;\\;\\;\\;\\;$ Mode<br>\n",
    "    $\\;\\;\\;\\;\\;\\;$  $\\;\\;\\;\\;\\;\\;$ Variance<br>\n",
    "    $\\;\\;\\;\\;\\;\\;$  $\\;\\;\\;\\;\\;\\;$ Min<br>\n",
    "    $\\;\\;\\;\\;\\;\\;$  $\\;\\;\\;\\;\\;\\;$ Max<br>\n",
    "    $\\;\\;\\;\\;\\;\\;$  $\\;\\;\\;\\;\\;\\;$ Standard Deviation<br>\n",
    "    ----- j) Describe Function<br>\n",
    "    ----- k) Pipe Functions:<br>\n",
    "     $\\;\\;\\;\\;\\;\\;$  $\\;\\;\\;\\;\\;\\;$ Pipe function<br>\n",
    "     $\\;\\;\\;\\;\\;\\;$  $\\;\\;\\;\\;\\;\\;$ Apply Function<br>\n",
    "     $\\;\\;\\;\\;\\;\\;$  $\\;\\;\\;\\;\\;\\;$ Applymap Function<br>\n",
    "    ----- l) Reindex Function<br>\n",
    "    ----- m) Renaming Columns in Pandas DataFrame<br>\n",
    "    ----- n) Sorting in Pandas DataFrame<br>\n",
    "    ----- o) Groupby Functions<br>\n",
    "    $\\;\\;\\;\\;\\;\\;$  $\\;\\;\\;\\;\\;\\;$ Adding Statistical Computation on groupby<br>\n",
    "    $\\;\\;\\;\\;\\;\\;$  $\\;\\;\\;\\;\\;\\;$ Using Filter Function with Groupby<br><br>\n",
    "3. Working with csv files and basic data Analysis Using Pandas<br>  \n",
    "    -----a) Reading CSV<br>\n",
    "    -----b) Info Function<br>\n",
    "    -----c) isnull() Function<br>\n",
    "    -----d) Quantile Function<br>\n",
    "    -----e) Copy Function<br>\n",
    "    -----f) Value Counts Function<br>\n",
    "    -----g) Unique and Nunique functopn<br>\n",
    "    -----h) dropna() function<br>\n",
    "    -----i) fillna() fucntion<br>\n",
    "    -----j) sample Functions<br>\n",
    "    -----k) to_csv() functions<br><br>\n",
    "4. A detailed Pandas Profile Report**\n",
    "\n"
   ]
  },
  {
   "cell_type": "code",
   "execution_count": 6,
   "metadata": {},
   "outputs": [
    {
     "data": {
      "text/plain": [
       "'2.1.1'"
      ]
     },
     "execution_count": 6,
     "metadata": {},
     "output_type": "execute_result"
    }
   ],
   "source": [
    "import pandas as pd\n",
    "import numpy as np\n",
    "pd.__version__  #This will give us the current version of pandas"
   ]
  },
  {
   "cell_type": "markdown",
   "metadata": {},
   "source": [
    "##### Series through a list"
   ]
  },
  {
   "cell_type": "code",
   "execution_count": 22,
   "metadata": {},
   "outputs": [
    {
     "name": "stdout",
     "output_type": "stream",
     "text": [
      "[1 2 4 5 6] <class 'numpy.ndarray'>\n",
      "0    1\n",
      "1    2\n",
      "2    4\n",
      "3    5\n",
      "4    6\n",
      "dtype: int32 <class 'pandas.core.series.Series'>\n",
      "one     1\n",
      "two     2\n",
      "four    4\n",
      "five    5\n",
      "six     6\n",
      "dtype: int32 <class 'pandas.core.series.Series'>\n",
      "day1    4000\n",
      "day2    3000\n",
      "day3    4500\n",
      "day4    5000\n",
      "dtype: int64 <class 'pandas.core.series.Series'>\n"
     ]
    }
   ],
   "source": [
    "lst = [1,2,4,5,6]\n",
    "arr = np.array(lst)\n",
    "#series from numpy array\n",
    "print(arr, type(arr))\n",
    "srr = pd.Series(arr) #Converts any PYTHON LIST or NUMPY ARRAY to PANDAS SERIES and the series will have the labels as 0,1,2 etc. by default\n",
    "print(srr, type(srr)) \n",
    "#Giving our own labels\n",
    "srr = pd.Series(arr, index=['one','two','four','five','six',]) #We can label the rows by ourselves\n",
    "print(srr, type(srr)) \n",
    "#Series through dictionary values\n",
    "steps = {'day1': 4000, 'day2': 3000, 'day3': 4500, 'day4': 5000,}\n",
    "srr = pd.Series(steps)\n",
    "print(srr, type(srr))"
   ]
  },
  {
   "cell_type": "markdown",
   "metadata": {},
   "source": [
    "#### Using repeat along with creating a series"
   ]
  },
  {
   "cell_type": "code",
   "execution_count": 30,
   "metadata": {},
   "outputs": [
    {
     "name": "stdout",
     "output_type": "stream",
     "text": [
      "0    5\n",
      "dtype: int64\n",
      "0    5\n",
      "0    5\n",
      "0    5\n",
      "0    5\n",
      "0    5\n",
      "dtype: int64\n",
      "   index  0\n",
      "0      0  5\n",
      "1      0  5\n",
      "2      0  5\n",
      "3      0  5\n",
      "4      0  5\n"
     ]
    },
    {
     "data": {
      "text/plain": [
       "0    5\n",
       "1    5\n",
       "2    5\n",
       "3    5\n",
       "4    5\n",
       "dtype: int64"
      ]
     },
     "execution_count": 30,
     "metadata": {},
     "output_type": "execute_result"
    }
   ],
   "source": [
    "print(pd.Series(5)) #creates a series with an element 5 at label 0\n",
    "print(pd.Series(5).repeat(5))   #Repeats the same element n number of times with the same index\n",
    "print(pd.Series(5).repeat(5).reset_index()) #Resets the index to integers starting with 0,1,2 etc, but in a data frame\n",
    "pd.Series(5).repeat(5).reset_index(drop=True) #This wil not give a dataframe but a series\n"
   ]
  },
  {
   "cell_type": "markdown",
   "metadata": {},
   "source": [
    "#### Accessing the elements"
   ]
  },
  {
   "cell_type": "code",
   "execution_count": 39,
   "metadata": {},
   "outputs": [
    {
     "name": "stdout",
     "output_type": "stream",
     "text": [
      "0    10\n",
      "1    10\n",
      "2    10\n",
      "3    10\n",
      "4    10\n",
      "5    20\n",
      "6    20\n",
      "dtype: int64\n",
      "10\n"
     ]
    }
   ],
   "source": [
    "series = pd.Series([10,20]).repeat([5,2]).reset_index(drop=True) # Repeats 10 five times and 20 two times\n",
    "print(series)\n",
    "print(series[2]) #We can access the elements in the same way as we access data in arrays in any other programming language"
   ]
  },
  {
   "cell_type": "code",
   "execution_count": 52,
   "metadata": {},
   "outputs": [
    {
     "name": "stdout",
     "output_type": "stream",
     "text": [
      "0    10\n",
      "1    10\n",
      "2    10\n",
      "3    10\n",
      "4    10\n",
      "5    20\n",
      "6    20\n",
      "dtype: int64\n",
      "--------------------\n",
      "2    10\n",
      "3    10\n",
      "4    10\n",
      "dtype: int64\n",
      "--------------------\n",
      "0    10\n",
      "1    10\n",
      "2    10\n",
      "3    10\n",
      "4    10\n",
      "5    20\n",
      "6    20\n",
      "dtype: int64\n",
      "--------------------\n",
      "0    10\n",
      "1    10\n",
      "2    10\n",
      "3    10\n",
      "dtype: int64\n",
      "--------------------\n",
      "5    20\n",
      "6    20\n",
      "dtype: int64\n",
      "--------------------\n",
      "2    10\n",
      "3    10\n",
      "4    10\n",
      "5    20\n",
      "dtype: int64\n"
     ]
    }
   ],
   "source": [
    "print(series) #This will print all the values\n",
    "print('-'*20)\n",
    "print(series[2:5]) #Returns element from given index to the other given index\n",
    "print('-'*20)\n",
    "print(series[:]) #Again returns all the elements\n",
    "print('-'*20)\n",
    "print(series[:4]) #Returns elements from index 0 to index 4\n",
    "print('-'*20)\n",
    "print(series[5:]) #Returns elements from index 5 to end\n",
    "print('-'*20)\n",
    "print(series[2:-1]) #Returns elements starting from index 2 till the elements in the second index from the last"
   ]
  },
  {
   "cell_type": "markdown",
   "metadata": {},
   "source": [
    "#### Aggregate functions"
   ]
  },
  {
   "cell_type": "code",
   "execution_count": 57,
   "metadata": {},
   "outputs": [
    {
     "name": "stdout",
     "output_type": "stream",
     "text": [
      "0    1\n",
      "1    2\n",
      "2    3\n",
      "3    4\n",
      "4    5\n",
      "5    6\n",
      "6    7\n",
      "7    8\n",
      "8    9\n",
      "dtype: int64\n"
     ]
    },
    {
     "data": {
      "text/plain": [
       "min     1\n",
       "max     9\n",
       "sum    45\n",
       "dtype: int64"
      ]
     },
     "execution_count": 57,
     "metadata": {},
     "output_type": "execute_result"
    }
   ],
   "source": [
    "sr = pd.Series([1,2,3,4,5,6,7,8,9])\n",
    "print(sr)\n",
    "sr.aggregate(['min','max','sum'])"
   ]
  },
  {
   "cell_type": "markdown",
   "metadata": {},
   "source": [
    "20:00"
   ]
  }
 ],
 "metadata": {
  "kernelspec": {
   "display_name": "Python 3",
   "language": "python",
   "name": "python3"
  },
  "language_info": {
   "codemirror_mode": {
    "name": "ipython",
    "version": 3
   },
   "file_extension": ".py",
   "mimetype": "text/x-python",
   "name": "python",
   "nbconvert_exporter": "python",
   "pygments_lexer": "ipython3",
   "version": "3.12.4"
  }
 },
 "nbformat": 4,
 "nbformat_minor": 2
}
